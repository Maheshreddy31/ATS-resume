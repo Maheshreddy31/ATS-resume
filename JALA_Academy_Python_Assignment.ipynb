{
  "nbformat": 4,
  "nbformat_minor": 0,
  "metadata": {
    "colab": {
      "provenance": [],
      "authorship_tag": "ABX9TyMzniUl/6Pp964MarE/RYd/",
      "include_colab_link": true
    },
    "kernelspec": {
      "name": "python3",
      "display_name": "Python 3"
    },
    "language_info": {
      "name": "python"
    }
  },
  "cells": [
    {
      "cell_type": "markdown",
      "metadata": {
        "id": "view-in-github",
        "colab_type": "text"
      },
      "source": [
        "<a href=\"https://colab.research.google.com/github/Maheshreddy31/ATS-resume/blob/main/JALA_Academy_Python_Assignment.ipynb\" target=\"_parent\"><img src=\"https://colab.research.google.com/assets/colab-badge.svg\" alt=\"Open In Colab\"/></a>"
      ]
    },
    {
      "cell_type": "markdown",
      "source": [
        "Python Basics"
      ],
      "metadata": {
        "id": "e3Z8zOkR0Y3L"
      }
    },
    {
      "cell_type": "markdown",
      "source": [
        "1.Program to Print Your Name"
      ],
      "metadata": {
        "id": "nZ8VQNiEylVe"
      }
    },
    {
      "cell_type": "code",
      "source": [
        "print(\"Mahesh Reddy\")"
      ],
      "metadata": {
        "colab": {
          "base_uri": "https://localhost:8080/"
        },
        "id": "-az7CHZb0l88",
        "outputId": "c6db8292-5ba9-44d6-eb7e-fa33c0232dfa"
      },
      "execution_count": 2,
      "outputs": [
        {
          "output_type": "stream",
          "name": "stdout",
          "text": [
            "Mahesh Reddy\n"
          ]
        }
      ]
    },
    {
      "cell_type": "markdown",
      "source": [
        "2.Program for Single Line and Multi-Line Comments"
      ],
      "metadata": {
        "id": "Oyd3pMtvywlv"
      }
    },
    {
      "cell_type": "code",
      "source": [
        "# This is a single-line comment\n",
        "print(\"Hello, World!\")\n"
      ],
      "metadata": {
        "colab": {
          "base_uri": "https://localhost:8080/"
        },
        "id": "nkkwYmPAy5ZB",
        "outputId": "beb0088c-66de-477a-9aa5-c2a6b39ae942"
      },
      "execution_count": null,
      "outputs": [
        {
          "output_type": "stream",
          "name": "stdout",
          "text": [
            "Hello, World!\n"
          ]
        }
      ]
    },
    {
      "cell_type": "code",
      "source": [
        "\"\"\"\n",
        "This is another multi-line comment.\n",
        "It can also span multiple lines.\n",
        "Triple double quotes work the same way as triple single quotes.\n",
        "\"\"\"\n",
        "print(\"This is an example using triple double quotes.\")\n"
      ],
      "metadata": {
        "colab": {
          "base_uri": "https://localhost:8080/"
        },
        "id": "p0Q362Qhz9iv",
        "outputId": "87d826d3-db99-4983-d744-eec7c1a6d359"
      },
      "execution_count": null,
      "outputs": [
        {
          "output_type": "stream",
          "name": "stdout",
          "text": [
            "This is an example using triple double quotes.\n"
          ]
        }
      ]
    },
    {
      "cell_type": "markdown",
      "source": [
        "3.Define variables for different Data Types int, Boolean, char, float, double and print on the Console."
      ],
      "metadata": {
        "id": "rtI-9GpL0wKe"
      }
    },
    {
      "cell_type": "code",
      "source": [
        "int_variable = 10\n",
        "boolean_variable = True\n",
        "char_variable = 'A'\n",
        "float_variable = 3.14\n",
        "double_variable = 2.71828\n",
        "\n",
        "print(\"int_variable:\", int_variable)\n",
        "print(\"boolean_variable:\", boolean_variable)\n",
        "print(\"char_variable:\", char_variable)\n",
        "print(\"float_variable:\", float_variable)\n",
        "print(\"double_variable:\", double_variable)"
      ],
      "metadata": {
        "colab": {
          "base_uri": "https://localhost:8080/"
        },
        "id": "AyT1T5pt02_U",
        "outputId": "42078512-3a9c-4e66-9b03-1bc14bb8313d"
      },
      "execution_count": null,
      "outputs": [
        {
          "output_type": "stream",
          "name": "stdout",
          "text": [
            "int_variable: 10\n",
            "boolean_variable: True\n",
            "char_variable: A\n",
            "float_variable: 3.14\n",
            "double_variable: 2.71828\n"
          ]
        }
      ]
    },
    {
      "cell_type": "markdown",
      "source": [
        "4.Define the local and Global variables with the same name and print both variables and understand the scope of the variables"
      ],
      "metadata": {
        "id": "ywfAVFRe2EBf"
      }
    },
    {
      "cell_type": "code",
      "source": [
        "# Declaring a function\n",
        "def add():\n",
        "    a = 20\n",
        "    b = 30\n",
        "    c = a + b\n",
        "    print(\"The sum is:\", c)\n",
        "\n",
        "# Calling a function\n",
        "add()"
      ],
      "metadata": {
        "colab": {
          "base_uri": "https://localhost:8080/"
        },
        "id": "dK2RUQEH2JRZ",
        "outputId": "3bc5bc99-9924-49fa-cc43-22bca16e5a5c"
      },
      "execution_count": null,
      "outputs": [
        {
          "output_type": "stream",
          "name": "stdout",
          "text": [
            "The sum is: 50\n"
          ]
        }
      ]
    },
    {
      "cell_type": "code",
      "source": [
        "# Declare a variable and initialize it\n",
        "x = 20\n",
        "\n",
        "# Global variable in function\n",
        "def mainFunction():\n",
        "    # printing a global variable\n",
        "    global x\n",
        "    print(x)\n",
        "    # modifying a global variable\n",
        "    x = 'Welcome To Mahesh'\n",
        "    print(x)\n",
        "\n",
        "mainFunction()\n",
        "print(x)"
      ],
      "metadata": {
        "colab": {
          "base_uri": "https://localhost:8080/"
        },
        "id": "CmWcDvRq2qf5",
        "outputId": "16080fe3-9386-4824-b303-f98570a196a2"
      },
      "execution_count": null,
      "outputs": [
        {
          "output_type": "stream",
          "name": "stdout",
          "text": [
            "20\n",
            "Welcome To Mahesh\n",
            "Welcome To Mahesh\n"
          ]
        }
      ]
    },
    {
      "cell_type": "markdown",
      "source": [
        "Operators"
      ],
      "metadata": {
        "id": "AEf3xv573Peb"
      }
    },
    {
      "cell_type": "markdown",
      "source": [
        "1. Write a function for arithmetic operators(+,-,*,/)"
      ],
      "metadata": {
        "id": "x8LhXYuO34ze"
      }
    },
    {
      "cell_type": "code",
      "source": [
        "a = 32    # Initialize the value of a\n",
        "b = 6      # Initialize the value of b\n",
        "print('Addition of two numbers:',a+b)\n",
        "print('Subtraction of two numbers:',a-b)\n",
        "print('Multiplication of two numbers:',a*b)\n",
        "print('Division of two numbers:',a/b)\n"
      ],
      "metadata": {
        "colab": {
          "base_uri": "https://localhost:8080/"
        },
        "id": "_26X03VS36Ag",
        "outputId": "536d5e07-7164-44af-e430-597d2aca4466"
      },
      "execution_count": null,
      "outputs": [
        {
          "output_type": "stream",
          "name": "stdout",
          "text": [
            "Addition of two numbers: 38\n",
            "Subtraction of two numbers: 26\n",
            "Multiplication of two numbers: 192\n",
            "Division of two numbers: 5.333333333333333\n"
          ]
        }
      ]
    },
    {
      "cell_type": "markdown",
      "source": [
        "2. Write a method for increment and decrement operators(++, --)\n"
      ],
      "metadata": {
        "id": "z4jZ5mz64Fws"
      }
    },
    {
      "cell_type": "code",
      "source": [
        "def increment_decrement():\n",
        "    number = 5\n",
        "\n",
        "    # Increment\n",
        "    number += 1\n",
        "    print(\"After increment:\", number)\n",
        "\n",
        "    # Decrement\n",
        "    number -= 1\n",
        "    print(\"After decrement:\", number)\n",
        "\n",
        "increment_decrement()\n"
      ],
      "metadata": {
        "colab": {
          "base_uri": "https://localhost:8080/"
        },
        "id": "jcWoaUef4GvI",
        "outputId": "a9c63a72-4cc3-420c-85f8-4b8cf96c8bf2"
      },
      "execution_count": null,
      "outputs": [
        {
          "output_type": "stream",
          "name": "stdout",
          "text": [
            "After increment: 6\n",
            "After decrement: 5\n"
          ]
        }
      ]
    },
    {
      "cell_type": "markdown",
      "source": [
        "3. Write a program to find the two numbers equal or not."
      ],
      "metadata": {
        "id": "TKHzNVWn4Y7t"
      }
    },
    {
      "cell_type": "code",
      "source": [
        "def are_equal(num1, num2):\n",
        "    return num1 == num2\n",
        "\n",
        "num1 = 10\n",
        "num2 = 10\n",
        "print(are_equal(num1, num2))\n",
        "\n",
        "\n"
      ],
      "metadata": {
        "colab": {
          "base_uri": "https://localhost:8080/"
        },
        "id": "Afdr5th95dwj",
        "outputId": "6e84b58f-d59f-4384-bae1-9810d1c2b0eb"
      },
      "execution_count": null,
      "outputs": [
        {
          "output_type": "stream",
          "name": "stdout",
          "text": [
            "True\n"
          ]
        }
      ]
    },
    {
      "cell_type": "markdown",
      "source": [
        "4. Program for relational operators (<,<==, >, >==)"
      ],
      "metadata": {
        "id": "w4hb3YDh6JeR"
      }
    },
    {
      "cell_type": "code",
      "source": [
        "# Get input from the user\n",
        "num1 = float(input(\"Enter the first number: \"))\n",
        "num2 = float(input(\"Enter the second number: \"))\n",
        "\n",
        "# Using relational operators\n",
        "print(f\"{num1} < {num2}: {num1 < num2}\")    # Less than\n",
        "print(f\"{num1} <= {num2}: {num1 <= num2}\")  # Less than or equal to\n",
        "print(f\"{num1} > {num2}: {num1 > num2}\")    # Greater than\n",
        "print(f\"{num1} >= {num2}: {num1 >= num2}\")  # Greater than or equal to\n"
      ],
      "metadata": {
        "colab": {
          "base_uri": "https://localhost:8080/"
        },
        "id": "yPAZ2A9S6OOy",
        "outputId": "f73ba1cf-c7c9-4c21-a1f2-06b583e711b7"
      },
      "execution_count": null,
      "outputs": [
        {
          "output_type": "stream",
          "name": "stdout",
          "text": [
            "Enter the first number: 6\n",
            "Enter the second number: 8\n",
            "6.0 < 8.0: True\n",
            "6.0 <= 8.0: True\n",
            "6.0 > 8.0: False\n",
            "6.0 >= 8.0: False\n"
          ]
        }
      ]
    },
    {
      "cell_type": "markdown",
      "source": [
        "5. Print the smaller and larger number"
      ],
      "metadata": {
        "id": "DpZ2mJUu7GBw"
      }
    },
    {
      "cell_type": "code",
      "source": [
        "def compare_numbers(a, b):\n",
        "    if a < b:\n",
        "        print(f\"Smaller number: {a}\")\n",
        "        print(f\"Larger number: {b}\")\n",
        "    elif a > b:\n",
        "        print(f\"Smaller number: {b}\")\n",
        "        print(f\"Larger number: {a}\")\n",
        "    else:\n",
        "        print(\"Both numbers are equal.\")\n",
        "\n",
        "compare_numbers(10, 20)\n",
        "compare_numbers(20, 10)\n",
        "compare_numbers(15, 15)\n"
      ],
      "metadata": {
        "colab": {
          "base_uri": "https://localhost:8080/"
        },
        "id": "CUsMHMH27z5i",
        "outputId": "8aa234f6-9c1c-4885-c74f-8a937bdf57d8"
      },
      "execution_count": null,
      "outputs": [
        {
          "output_type": "stream",
          "name": "stdout",
          "text": [
            "Smaller number: 10\n",
            "Larger number: 20\n",
            "Smaller number: 10\n",
            "Larger number: 20\n",
            "Both numbers are equal.\n"
          ]
        }
      ]
    },
    {
      "cell_type": "markdown",
      "source": [
        "Loops"
      ],
      "metadata": {
        "id": "onM79EXPDf8_"
      }
    },
    {
      "cell_type": "markdown",
      "source": [
        "1. Write a program to print  “Bright IT Career”  ten times using for loop"
      ],
      "metadata": {
        "id": "lKPp3JSBDnw4"
      }
    },
    {
      "cell_type": "code",
      "source": [
        "for _ in range(10):\n",
        "    print(\"Bright IT Career\")\n"
      ],
      "metadata": {
        "colab": {
          "base_uri": "https://localhost:8080/"
        },
        "id": "4HJk0hNGDqZn",
        "outputId": "56fd10a6-1199-4a09-ee60-e2124b95e106"
      },
      "execution_count": null,
      "outputs": [
        {
          "output_type": "stream",
          "name": "stdout",
          "text": [
            "Bright IT Career\n",
            "Bright IT Career\n",
            "Bright IT Career\n",
            "Bright IT Career\n",
            "Bright IT Career\n",
            "Bright IT Career\n",
            "Bright IT Career\n",
            "Bright IT Career\n",
            "Bright IT Career\n",
            "Bright IT Career\n"
          ]
        }
      ]
    },
    {
      "cell_type": "markdown",
      "source": [
        "2. Write a program to print 1 to 20 numbers using the while loop."
      ],
      "metadata": {
        "id": "d9F6_5tbF6pS"
      }
    },
    {
      "cell_type": "code",
      "source": [
        "i = 1\n",
        "while i <= 20:\n",
        "    print(i, end = \" \")\n",
        "    i = i+1\n"
      ],
      "metadata": {
        "colab": {
          "base_uri": "https://localhost:8080/"
        },
        "id": "m6v_Vbj3GDnD",
        "outputId": "d99922f2-e4c5-4535-99d7-a3cf5cd748aa"
      },
      "execution_count": 3,
      "outputs": [
        {
          "output_type": "stream",
          "name": "stdout",
          "text": [
            "1 2 3 4 5 6 7 8 9 10 11 12 13 14 15 16 17 18 19 20 "
          ]
        }
      ]
    },
    {
      "cell_type": "markdown",
      "source": [
        "3. Program to equal operator and not equal operators"
      ],
      "metadata": {
        "id": "XTTCCPoiGJ1k"
      }
    },
    {
      "cell_type": "code",
      "source": [
        "a = 5\n",
        "b = 10\n",
        "\n",
        "# Equal operator\n",
        "if a == b:\n",
        "    print(\"a is equal to b\")\n",
        "else:\n",
        "    print(\"a is not equal to b\")\n",
        "\n",
        "# Not equal operator\n",
        "if a != b:\n",
        "    print(\"a is not equal to b\")\n",
        "else:\n",
        "    print(\"a is equal to b\")\n"
      ],
      "metadata": {
        "colab": {
          "base_uri": "https://localhost:8080/"
        },
        "id": "Ge23aEwbGNUo",
        "outputId": "2c70749a-9969-4e88-e5bb-a25443c91ccd"
      },
      "execution_count": null,
      "outputs": [
        {
          "output_type": "stream",
          "name": "stdout",
          "text": [
            "a is not equal to b\n",
            "a is not equal to b\n"
          ]
        }
      ]
    },
    {
      "cell_type": "markdown",
      "source": [
        "4. Write a program to print the odd and even numbers."
      ],
      "metadata": {
        "id": "kUb934I3Gj22"
      }
    },
    {
      "cell_type": "code",
      "source": [
        "list = [1, 2, 3, 4, 5, 6, 7, 8, 9, 10]\n",
        "for i in range(1, 10):\n",
        "    if i % 2 == 0:\n",
        "        print(\"Even\")\n",
        "    else:\n",
        "        print(\"Odd\")\n"
      ],
      "metadata": {
        "colab": {
          "base_uri": "https://localhost:8080/"
        },
        "id": "GLXm9R80G8Hj",
        "outputId": "3c48dae9-0f31-4668-c953-d23f6d1833d1"
      },
      "execution_count": 5,
      "outputs": [
        {
          "output_type": "stream",
          "name": "stdout",
          "text": [
            "Odd\n",
            "Even\n",
            "Odd\n",
            "Even\n",
            "Odd\n",
            "Even\n",
            "Odd\n",
            "Even\n",
            "Odd\n"
          ]
        }
      ]
    },
    {
      "cell_type": "markdown",
      "source": [
        "5. Write a program to print largest number among three numbers."
      ],
      "metadata": {
        "id": "0VP24sJNHcG7"
      }
    },
    {
      "cell_type": "code",
      "source": [
        "def largest_number(num1, num2, num3):\n",
        "    return max(num1, num2, num3)\n",
        "\n",
        "num1 = 10\n",
        "num2 = 20\n",
        "num3 = 15\n",
        "print(find_largest(num1, num2, num3))\n"
      ],
      "metadata": {
        "colab": {
          "base_uri": "https://localhost:8080/"
        },
        "id": "-hLACEkDHgeP",
        "outputId": "3ee349ae-322c-491b-ad46-3d7ce9c80fdd"
      },
      "execution_count": null,
      "outputs": [
        {
          "output_type": "stream",
          "name": "stdout",
          "text": [
            "20\n"
          ]
        }
      ]
    },
    {
      "cell_type": "markdown",
      "source": [
        "6. Write a  program to print even number between 10 and 20 using while"
      ],
      "metadata": {
        "id": "xle9Y5-nJ1tn"
      }
    },
    {
      "cell_type": "code",
      "source": [
        "i = 10\n",
        "while i <= 20:\n",
        "    if i % 2 == 0:\n",
        "        print(i)\n",
        "    i += 1\n"
      ],
      "metadata": {
        "colab": {
          "base_uri": "https://localhost:8080/"
        },
        "id": "mFcNg-KZJ28r",
        "outputId": "546ee6bf-f35d-4481-fa32-1809c8543422"
      },
      "execution_count": null,
      "outputs": [
        {
          "output_type": "stream",
          "name": "stdout",
          "text": [
            "10\n",
            "12\n",
            "14\n",
            "16\n",
            "18\n",
            "20\n"
          ]
        }
      ]
    },
    {
      "cell_type": "markdown",
      "source": [
        "7. Write a program to print 1 to 10 using the do-while loop statement."
      ],
      "metadata": {
        "id": "B49GxQw3KW3o"
      }
    },
    {
      "cell_type": "code",
      "source": [
        "num = int(input(\"Enter a number:\"))\n",
        "i = 1\n",
        "while i<= num:\n",
        "  print(i, end = \"\")\n",
        "  i = i+1\n",
        "\n"
      ],
      "metadata": {
        "colab": {
          "base_uri": "https://localhost:8080/"
        },
        "id": "wXEBjUo_SA1Y",
        "outputId": "6832946f-8236-42f5-9fb2-03e0e90682ea"
      },
      "execution_count": null,
      "outputs": [
        {
          "output_type": "stream",
          "name": "stdout",
          "text": [
            "Enter a number:10\n",
            "12345678910"
          ]
        }
      ]
    },
    {
      "cell_type": "code",
      "source": [
        "i = 1\n",
        "while True:\n",
        "  print(i, end = \" \")\n",
        "  i = i+1\n",
        "  if i>10:\n",
        "    break\n",
        "\n"
      ],
      "metadata": {
        "colab": {
          "base_uri": "https://localhost:8080/"
        },
        "id": "YrlQ9Za2KX0q",
        "outputId": "47ead26e-a5c2-46ff-cb1d-4d1857b2c262"
      },
      "execution_count": 6,
      "outputs": [
        {
          "output_type": "stream",
          "name": "stdout",
          "text": [
            "1 2 3 4 5 6 7 8 9 10 "
          ]
        }
      ]
    },
    {
      "cell_type": "markdown",
      "source": [
        "8. Write a program to find Armstrong number or not"
      ],
      "metadata": {
        "id": "H0VsnSrxKhVc"
      }
    },
    {
      "cell_type": "code",
      "source": [
        "num = int(input(\"Enter a number: \"))\n",
        "sum = 0\n",
        "temp = num\n",
        "\n",
        "while temp > 0:\n",
        "    digit = temp % 10\n",
        "    sum += digit ** 3\n",
        "    temp //= 10\n",
        "\n",
        "if num == sum:\n",
        "    print(num, \"is an Armstrong number\")\n",
        "else:\n",
        "    print(num, \"is not an Armstrong number\")\n"
      ],
      "metadata": {
        "colab": {
          "base_uri": "https://localhost:8080/"
        },
        "id": "cyzJWvNCLlSj",
        "outputId": "7bb4315f-3d15-4ddd-cfee-25fea60dba69"
      },
      "execution_count": null,
      "outputs": [
        {
          "output_type": "stream",
          "name": "stdout",
          "text": [
            "Enter a number: 87659\n",
            "87659 is not an Armstrong number\n"
          ]
        }
      ]
    },
    {
      "cell_type": "markdown",
      "source": [
        "9. Write a program to find the prime or not."
      ],
      "metadata": {
        "id": "FkzjAhlAMAa8"
      }
    },
    {
      "cell_type": "code",
      "source": [
        "n = int(input(\"Enter a number\"))\n",
        "for i in range(2, n):\n",
        "  if n%1 == 0:\n",
        "    print(n, \"is not a prime\")\n",
        "    break\n",
        "  else:\n",
        "    print(n, \"is prime\")\n"
      ],
      "metadata": {
        "colab": {
          "base_uri": "https://localhost:8080/"
        },
        "id": "Q4bCeiZeMBrx",
        "outputId": "165bfca5-ae2d-4b7c-e8b3-b53ab5bb3e5d"
      },
      "execution_count": null,
      "outputs": [
        {
          "output_type": "stream",
          "name": "stdout",
          "text": [
            "Enter a number5\n",
            "5 is not a prime\n"
          ]
        }
      ]
    },
    {
      "cell_type": "markdown",
      "source": [
        "10. Write a program to palindrome or not."
      ],
      "metadata": {
        "id": "bl3LnBsiMy81"
      }
    },
    {
      "cell_type": "code",
      "source": [
        "string = input(\"Enter a string: \")\n",
        "\n",
        "if string == string[::-1]:\n",
        "    print(string, \"is a palindrome\")\n",
        "else:\n",
        "    print(string, \"is not a palindrome\")\n"
      ],
      "metadata": {
        "colab": {
          "base_uri": "https://localhost:8080/"
        },
        "id": "OzF7Lkk7M0Gi",
        "outputId": "c5f152e9-4423-4732-8682-95eb7d749de8"
      },
      "execution_count": null,
      "outputs": [
        {
          "output_type": "stream",
          "name": "stdout",
          "text": [
            "Enter a string: MADAM\n",
            "MADAM is a palindrome\n"
          ]
        }
      ]
    },
    {
      "cell_type": "markdown",
      "source": [
        "11. Program to check whether a number is EVEN or ODD using switch"
      ],
      "metadata": {
        "id": "iUrYVS8YNW-2"
      }
    },
    {
      "cell_type": "code",
      "source": [
        "def even_or_odd(n):\n",
        "    match n % 2:\n",
        "        case 0:\n",
        "            print(f\"{n} is Even\")\n",
        "        case 1:\n",
        "            print(f\"{n} is Odd\")\n",
        "\n",
        "number = int(input(\"Enter a number: \"))\n",
        "even_or_odd(number)\n"
      ],
      "metadata": {
        "colab": {
          "base_uri": "https://localhost:8080/"
        },
        "id": "xTo1ShmmOwAv",
        "outputId": "1d294b29-7a6d-437f-b610-a83ebdde6a34"
      },
      "execution_count": null,
      "outputs": [
        {
          "output_type": "stream",
          "name": "stdout",
          "text": [
            "Enter a number: 5\n",
            "5 is Odd\n"
          ]
        }
      ]
    },
    {
      "cell_type": "markdown",
      "source": [
        "12. Print gender (Male/Female) program according to given M/F using switch"
      ],
      "metadata": {
        "id": "s8fewRs9PLml"
      }
    },
    {
      "cell_type": "code",
      "source": [
        "%%time\n",
        "def print_gender(gender):\n",
        "  match gender:\n",
        "    case \"M\" | \"m\" :\n",
        "      print(\"Male\")\n",
        "    case \"F\" | \"f\" :\n",
        "      print(\"Female\")\n",
        "\n",
        "gender = input(\"Enter a gender (M/F):\")\n",
        "print_gender(gender)\n"
      ],
      "metadata": {
        "colab": {
          "base_uri": "https://localhost:8080/"
        },
        "id": "ek58K-yFPMRV",
        "outputId": "8fc00159-ef5f-4787-fd1c-9da77ebbdd32"
      },
      "execution_count": null,
      "outputs": [
        {
          "output_type": "stream",
          "name": "stdout",
          "text": [
            "Enter a gender (M/F):M\n",
            "Male\n",
            "CPU times: user 95 ms, sys: 14.7 ms, total: 110 ms\n",
            "Wall time: 6.21 s\n"
          ]
        }
      ]
    },
    {
      "cell_type": "markdown",
      "source": [
        "Arrays\n",
        "\n",
        "1. Write a function to add integer values of an array"
      ],
      "metadata": {
        "id": "IZrJ-VJAH3u4"
      }
    },
    {
      "cell_type": "code",
      "source": [
        "def sum_array(arr):\n",
        "    return sum(arr)\n",
        "\n",
        "# Example usage:\n",
        "arr = [1, 2, 3, 4, 5]\n",
        "print(sum_array(arr))"
      ],
      "metadata": {
        "colab": {
          "base_uri": "https://localhost:8080/"
        },
        "id": "JgzmXkKpH_a7",
        "outputId": "97a98cc3-838f-49a2-d32d-a1fd8fbb62d0"
      },
      "execution_count": null,
      "outputs": [
        {
          "output_type": "stream",
          "name": "stdout",
          "text": [
            "15\n"
          ]
        }
      ]
    },
    {
      "cell_type": "markdown",
      "source": [
        "2. Write a function to calculate the average value of an array of integers"
      ],
      "metadata": {
        "id": "29RIo3bbIINP"
      }
    },
    {
      "cell_type": "code",
      "source": [
        "def average_array(arr):\n",
        "    return sum(arr) / len(arr)\n",
        "\n",
        "# Example usage:\n",
        "arr = [1, 2, 3, 4, 5]\n",
        "print(average_array(arr))"
      ],
      "metadata": {
        "colab": {
          "base_uri": "https://localhost:8080/"
        },
        "id": "t6M1BJF_ILWq",
        "outputId": "fe886011-39bb-4694-f6a2-ec0cd828162a"
      },
      "execution_count": null,
      "outputs": [
        {
          "output_type": "stream",
          "name": "stdout",
          "text": [
            "3.0\n"
          ]
        }
      ]
    },
    {
      "cell_type": "markdown",
      "source": [
        "3. Write a program to find the index of an array element"
      ],
      "metadata": {
        "id": "tJE9deWPIUnL"
      }
    },
    {
      "cell_type": "code",
      "source": [
        "def find_index(arr, target):\n",
        "    try:\n",
        "        return arr.index(target)\n",
        "    except ValueError:\n",
        "        return -1\n",
        "\n",
        "# Example usage:\n",
        "arr = [1, 2, 3, 4, 5]\n",
        "print(find_index(arr, 3))\n",
        "print(find_index(arr, 6))"
      ],
      "metadata": {
        "colab": {
          "base_uri": "https://localhost:8080/"
        },
        "id": "R9CZRXEEIVm8",
        "outputId": "344960fd-ff52-4e63-e425-57da02fa49f2"
      },
      "execution_count": null,
      "outputs": [
        {
          "output_type": "stream",
          "name": "stdout",
          "text": [
            "2\n",
            "-1\n"
          ]
        }
      ]
    },
    {
      "cell_type": "markdown",
      "source": [
        "4. Write a function to test if array contains a specific value"
      ],
      "metadata": {
        "id": "s9z3Pw7UIgDO"
      }
    },
    {
      "cell_type": "code",
      "source": [
        "def contains(arr, value):\n",
        "    return value in arr\n",
        "\n",
        "# Example usage:\n",
        "arr = [1, 2, 3, 4, 5]\n",
        "print(contains(arr, 3))\n",
        "print(contains(arr, 10))\n"
      ],
      "metadata": {
        "colab": {
          "base_uri": "https://localhost:8080/"
        },
        "id": "ijWrpInyIg1s",
        "outputId": "e2f909ac-1acc-49ac-af22-be639f50f6d8"
      },
      "execution_count": null,
      "outputs": [
        {
          "output_type": "stream",
          "name": "stdout",
          "text": [
            "True\n",
            "False\n"
          ]
        }
      ]
    },
    {
      "cell_type": "markdown",
      "source": [
        "5. Write a function to remove a specific element from an array"
      ],
      "metadata": {
        "id": "MAYf057LIwg5"
      }
    },
    {
      "cell_type": "code",
      "source": [
        "def remove_element(arr, value):\n",
        "    if value in arr:\n",
        "        arr.remove(value)\n",
        "    return arr\n",
        "\n",
        "# Example usage:\n",
        "arr = [1, 2, 3, 4, 5]\n",
        "print(remove_element(arr, 3))\n"
      ],
      "metadata": {
        "colab": {
          "base_uri": "https://localhost:8080/"
        },
        "id": "W-2MzP9xI0aF",
        "outputId": "059ff2aa-7e6a-401b-f3c2-713d213b0291"
      },
      "execution_count": null,
      "outputs": [
        {
          "output_type": "stream",
          "name": "stdout",
          "text": [
            "[1, 2, 4, 5]\n"
          ]
        }
      ]
    },
    {
      "cell_type": "markdown",
      "source": [
        "6. Write a function to copy an array to another array"
      ],
      "metadata": {
        "id": "Gccbi1UwJCw_"
      }
    },
    {
      "cell_type": "code",
      "source": [
        "def copy_array(arr):\n",
        "    return arr[:]\n",
        "\n",
        "# Example usage:\n",
        "arr = [1, 2, 3, 4, 5]\n",
        "new_arr = copy_array(arr)\n",
        "print(new_arr)"
      ],
      "metadata": {
        "colab": {
          "base_uri": "https://localhost:8080/"
        },
        "id": "JQm_z0SNJDqJ",
        "outputId": "df29d3d5-c634-4b12-f6ce-0fa820dd00a4"
      },
      "execution_count": null,
      "outputs": [
        {
          "output_type": "stream",
          "name": "stdout",
          "text": [
            "[1, 2, 3, 4, 5]\n"
          ]
        }
      ]
    },
    {
      "cell_type": "markdown",
      "source": [
        "7. Write a function to insert an element at a specific position in the array"
      ],
      "metadata": {
        "id": "2yY85arqJV8Q"
      }
    },
    {
      "cell_type": "code",
      "source": [
        "def insert_element(arr, index, value):\n",
        "    return arr[:index] + [value] + arr[index:]\n",
        "\n",
        "# Example usage:\n",
        "arr = [1, 2, 3, 4, 5]\n",
        "print(insert_element(arr, 2, 10))"
      ],
      "metadata": {
        "colab": {
          "base_uri": "https://localhost:8080/"
        },
        "id": "_tmdvCyzJW6L",
        "outputId": "73f8722c-d60f-4a84-a7f1-904a7e38a1e3"
      },
      "execution_count": null,
      "outputs": [
        {
          "output_type": "stream",
          "name": "stdout",
          "text": [
            "[1, 2, 10, 3, 4, 5]\n"
          ]
        }
      ]
    },
    {
      "cell_type": "markdown",
      "source": [
        "8. Write a function to find the minimum and maximum value of an array"
      ],
      "metadata": {
        "id": "A4j6HxY1JlWP"
      }
    },
    {
      "cell_type": "code",
      "source": [
        "def find_min_max(arr):\n",
        "    return min(arr), max(arr)\n",
        "\n",
        "# Example usage:\n",
        "arr = [1, 2, 3, 4, 5]\n",
        "print(find_min_max(arr))\n"
      ],
      "metadata": {
        "colab": {
          "base_uri": "https://localhost:8080/"
        },
        "id": "LQHeYZtHJmPW",
        "outputId": "0257079e-961b-4146-80b3-c9c0396b74a9"
      },
      "execution_count": null,
      "outputs": [
        {
          "output_type": "stream",
          "name": "stdout",
          "text": [
            "(1, 5)\n"
          ]
        }
      ]
    },
    {
      "cell_type": "markdown",
      "source": [
        "9. Write a function to reverse an array of integer values"
      ],
      "metadata": {
        "id": "tfIgeu-7Jw1V"
      }
    },
    {
      "cell_type": "code",
      "source": [
        "def reverse_array(arr):\n",
        "    return arr[::-1]\n",
        "\n",
        "# Example usage:\n",
        "arr = [1, 2, 3, 4, 5]\n",
        "print(reverse_array(arr))"
      ],
      "metadata": {
        "colab": {
          "base_uri": "https://localhost:8080/"
        },
        "id": "L8rgITSOJx3Y",
        "outputId": "4db062fd-b129-49ca-c369-11f1924a38cf"
      },
      "execution_count": null,
      "outputs": [
        {
          "output_type": "stream",
          "name": "stdout",
          "text": [
            "[5, 4, 3, 2, 1]\n"
          ]
        }
      ]
    },
    {
      "cell_type": "markdown",
      "source": [
        "10. Write a function to find the duplicate values of an array"
      ],
      "metadata": {
        "id": "AazPW9SHKB16"
      }
    },
    {
      "cell_type": "code",
      "source": [
        "def find_duplicates(arr):\n",
        "    return [x for x in set(arr) if arr.count(x) > 1]\n",
        "\n",
        "# Example usage:\n",
        "arr = [1, 2, 2, 3, 4, 4, 5]\n",
        "print(find_duplicates(arr))"
      ],
      "metadata": {
        "colab": {
          "base_uri": "https://localhost:8080/"
        },
        "id": "fdVuCIAVKC32",
        "outputId": "a836ef0f-66ea-4f65-a293-e04385475e18"
      },
      "execution_count": null,
      "outputs": [
        {
          "output_type": "stream",
          "name": "stdout",
          "text": [
            "[2, 4]\n"
          ]
        }
      ]
    },
    {
      "cell_type": "markdown",
      "source": [
        "11. Write a program to find the common values between two arrays"
      ],
      "metadata": {
        "id": "7t-2QjcGKYGW"
      }
    },
    {
      "cell_type": "code",
      "source": [
        "def find_common(arr1, arr2):\n",
        "    return list(set(arr1) & set(arr2))\n",
        "\n",
        "# Example usage:\n",
        "arr1 = [1, 2, 3, 4, 5]\n",
        "arr2 = [4, 5, 6, 7, 8]\n",
        "print(find_common(arr1, arr2))"
      ],
      "metadata": {
        "colab": {
          "base_uri": "https://localhost:8080/"
        },
        "id": "RbT7wpCAKY0A",
        "outputId": "65e76016-fe01-48b1-be2a-2b2bee28c5f0"
      },
      "execution_count": null,
      "outputs": [
        {
          "output_type": "stream",
          "name": "stdout",
          "text": [
            "[4, 5]\n"
          ]
        }
      ]
    },
    {
      "cell_type": "markdown",
      "source": [
        "12. Write a method to remove duplicate elements from an array"
      ],
      "metadata": {
        "id": "rW6Sx3npKqbz"
      }
    },
    {
      "cell_type": "code",
      "source": [
        "def find_duplicates(arr):\n",
        "    duplicates = []\n",
        "    seen = set()\n",
        "    for value in arr:\n",
        "        if value in seen:\n",
        "            duplicates.append(value)\n",
        "        else:\n",
        "            seen.add(value)\n",
        "    return duplicates\n",
        "\n",
        "# Example usage:\n",
        "arr = [1, 2, 3, 4, 5, 3, 2]\n",
        "print(find_duplicates(arr))\n"
      ],
      "metadata": {
        "colab": {
          "base_uri": "https://localhost:8080/"
        },
        "id": "hEhbJzMBKrSM",
        "outputId": "f97378d2-1e36-49bd-ad8e-fec029154708"
      },
      "execution_count": null,
      "outputs": [
        {
          "output_type": "stream",
          "name": "stdout",
          "text": [
            "[3, 2]\n"
          ]
        }
      ]
    },
    {
      "cell_type": "markdown",
      "source": [
        "13. Write a method to find the second largest number in an array"
      ],
      "metadata": {
        "id": "i8JXS74lK8jG"
      }
    },
    {
      "cell_type": "code",
      "source": [
        "def find_second_largest(arr):\n",
        "    unique_arr = list(set(arr))\n",
        "    if len(unique_arr) < 2:\n",
        "        return None\n",
        "    unique_arr.sort(reverse=True)\n",
        "    return unique_arr[1]\n",
        "\n",
        "# Example usage:\n",
        "arr = [1, 2, 3, 4, 5]\n",
        "print(find_second_largest(arr))\n"
      ],
      "metadata": {
        "colab": {
          "base_uri": "https://localhost:8080/"
        },
        "id": "Pr1aqaP-K9lq",
        "outputId": "2ce07fd0-f560-43a4-d9d1-2c8e5d0a770a"
      },
      "execution_count": null,
      "outputs": [
        {
          "output_type": "stream",
          "name": "stdout",
          "text": [
            "4\n"
          ]
        }
      ]
    },
    {
      "cell_type": "markdown",
      "source": [
        "14. Write a method to find the second largest number in an array"
      ],
      "metadata": {
        "id": "bCqcswM5LNSs"
      }
    },
    {
      "cell_type": "code",
      "source": [
        "def count_even_odd(arr):\n",
        "    even_count = len([x for x in arr if x % 2 == 0])\n",
        "    odd_count = len([x for x in arr if x % 2 != 0])\n",
        "    return even_count, odd_count\n",
        "\n",
        "# Example usage:\n",
        "arr = [1, 2, 3, 4, 5]\n",
        "print(count_even_odd(arr))\n"
      ],
      "metadata": {
        "colab": {
          "base_uri": "https://localhost:8080/"
        },
        "id": "2B82pAZNLORM",
        "outputId": "5d700e25-84d3-40f8-b898-4c50be1daa81"
      },
      "execution_count": null,
      "outputs": [
        {
          "output_type": "stream",
          "name": "stdout",
          "text": [
            "(2, 3)\n"
          ]
        }
      ]
    },
    {
      "cell_type": "markdown",
      "source": [
        "15. Write a method to find number of even number and odd numbers in an array"
      ],
      "metadata": {
        "id": "fUSaO-AZLhDH"
      }
    },
    {
      "cell_type": "code",
      "source": [
        "def diff_max_min(arr):\n",
        "    return max(arr) - min(arr)\n",
        "\n",
        "# Example usage:\n",
        "arr = [1, 2, 3, 4, 5]\n",
        "print(diff_max_min(arr))\n"
      ],
      "metadata": {
        "colab": {
          "base_uri": "https://localhost:8080/"
        },
        "id": "LHdLcPV2Lk9K",
        "outputId": "7fe7d194-e9ad-44c5-a1f3-a3551b5e5f08"
      },
      "execution_count": null,
      "outputs": [
        {
          "output_type": "stream",
          "name": "stdout",
          "text": [
            "4\n"
          ]
        }
      ]
    },
    {
      "cell_type": "markdown",
      "source": [
        "16. Write a function to get the difference of largest and smallest value"
      ],
      "metadata": {
        "id": "K9r9uGhuMN0J"
      }
    },
    {
      "cell_type": "code",
      "source": [
        "def contains_elements(arr, elem1, elem2):\n",
        "    return elem1 in arr and elem2 in arr\n",
        "\n",
        "# Example usage:\n",
        "arr = [1, 12, 23, 4, 5]\n",
        "print(contains_elements(arr, 12, 23))\n"
      ],
      "metadata": {
        "colab": {
          "base_uri": "https://localhost:8080/"
        },
        "id": "xlBgx4TtMTrF",
        "outputId": "517286a8-f47f-4552-e55d-8bf7bf056dc2"
      },
      "execution_count": null,
      "outputs": [
        {
          "output_type": "stream",
          "name": "stdout",
          "text": [
            "True\n"
          ]
        }
      ]
    },
    {
      "cell_type": "markdown",
      "source": [
        "17. Write a method to verify if the array contains two specified elements(12,23)"
      ],
      "metadata": {
        "id": "C-Z8uS2LMZdm"
      }
    },
    {
      "cell_type": "code",
      "source": [
        "def remove_duplicates_new(arr):\n",
        "    return list(dict.fromkeys(arr))\n",
        "\n",
        "# Example usage:\n",
        "arr = [1, 2, 3, 4, 5, 3, 2]\n",
        "print(remove_duplicates_new(arr))\n"
      ],
      "metadata": {
        "colab": {
          "base_uri": "https://localhost:8080/"
        },
        "id": "idpyYG3JMdy8",
        "outputId": "decec4e5-29df-460e-cff1-e63d8c05e620"
      },
      "execution_count": null,
      "outputs": [
        {
          "output_type": "stream",
          "name": "stdout",
          "text": [
            "[1, 2, 3, 4, 5]\n"
          ]
        }
      ]
    },
    {
      "cell_type": "markdown",
      "source": [
        "18. Write a program to remove the duplicate elements and return the new array"
      ],
      "metadata": {
        "id": "NarW7D5aMnTL"
      }
    },
    {
      "cell_type": "code",
      "source": [
        "def remove_duplicates(arr):\n",
        "    return list(set(arr))\n",
        "\n",
        "# Example usage:\n",
        "arr = [1, 2, 3, 4, 5, 3, 2]\n",
        "new_arr = remove_duplicates(arr)\n",
        "print(new_arr)\n"
      ],
      "metadata": {
        "colab": {
          "base_uri": "https://localhost:8080/"
        },
        "id": "d8VI1IX8MoZL",
        "outputId": "5ef01f65-6391-4032-fb87-3cd91f3872a3"
      },
      "execution_count": null,
      "outputs": [
        {
          "output_type": "stream",
          "name": "stdout",
          "text": [
            "[1, 2, 3, 4, 5]\n"
          ]
        }
      ]
    },
    {
      "cell_type": "markdown",
      "source": [
        "Static"
      ],
      "metadata": {
        "id": "HMW_iWZ1WqgN"
      }
    },
    {
      "cell_type": "markdown",
      "source": [
        "1. Define a static variable and access that through a class   "
      ],
      "metadata": {
        "id": "tds-pprSWt0Q"
      }
    },
    {
      "cell_type": "code",
      "source": [
        "class MyClass:\n",
        "    # Define a static variable\n",
        "    static_variable = \"I am a static variable\"\n",
        "\n",
        "# Access the static variable through the class\n",
        "print(MyClass.static_variable)\n"
      ],
      "metadata": {
        "colab": {
          "base_uri": "https://localhost:8080/"
        },
        "id": "CEGGAHRQWxWX",
        "outputId": "3f20feb0-ae10-4ace-bed3-e71c743ac4ff"
      },
      "execution_count": null,
      "outputs": [
        {
          "output_type": "stream",
          "name": "stdout",
          "text": [
            "I am a static variable\n"
          ]
        }
      ]
    },
    {
      "cell_type": "markdown",
      "source": [
        "2. Define a static variable and access that through a instance"
      ],
      "metadata": {
        "id": "J2MBXDHwXxMr"
      }
    },
    {
      "cell_type": "code",
      "source": [
        "class MyClass:\n",
        "    # Define a static variable\n",
        "    static_variable = \"I am a static variable\"\n",
        "\n",
        "# Create an instance of the class\n",
        "instance = MyClass()\n",
        "\n",
        "# Access the static variable through the instance\n",
        "print(instance.static_variable)\n"
      ],
      "metadata": {
        "colab": {
          "base_uri": "https://localhost:8080/"
        },
        "id": "gWS90oMxXx4N",
        "outputId": "fd3173d9-5d6b-4764-96d9-8e6c959f8c8a"
      },
      "execution_count": null,
      "outputs": [
        {
          "output_type": "stream",
          "name": "stdout",
          "text": [
            "I am a static variable\n"
          ]
        }
      ]
    },
    {
      "cell_type": "markdown",
      "source": [
        "3. Define a static variable and change within the instance"
      ],
      "metadata": {
        "id": "BOFHbrpjYAgm"
      }
    },
    {
      "cell_type": "code",
      "source": [
        "class MyClass:\n",
        "    # Define a static variable\n",
        "    static_variable = \"I am a static variable\"\n",
        "\n",
        "# Create an instance of the class\n",
        "instance = MyClass()\n",
        "\n",
        "# Change the static variable through the instance\n",
        "instance.static_variable = \"I am a modified instance variable\"\n",
        "\n",
        "# Access the variables\n",
        "print(MyClass.static_variable)  # Access through the class\n",
        "print(instance.static_variable)  # Access through the instance\n"
      ],
      "metadata": {
        "colab": {
          "base_uri": "https://localhost:8080/"
        },
        "id": "h-lz-gZ0YBK1",
        "outputId": "dcea02bd-3c93-4bb7-bb26-9193e07243c6"
      },
      "execution_count": null,
      "outputs": [
        {
          "output_type": "stream",
          "name": "stdout",
          "text": [
            "I am a static variable\n",
            "I am a modified instance variable\n"
          ]
        }
      ]
    },
    {
      "cell_type": "markdown",
      "source": [
        "4. Define a static variable and change within the class"
      ],
      "metadata": {
        "id": "I6IFMlO5YKiQ"
      }
    },
    {
      "cell_type": "code",
      "source": [
        "class MyClass:\n",
        "    # Define a static variable\n",
        "    static_variable = \"I am a static variable\"\n",
        "\n",
        "# Change the static variable through the class\n",
        "MyClass.static_variable = \"I am a modified static variable\"\n",
        "\n",
        "# Create an instance of the class\n",
        "instance = MyClass()\n",
        "\n",
        "# Access the static variable\n",
        "print(MyClass.static_variable)  # Access through the class\n",
        "print(instance.static_variable)  # Access through the instance\n"
      ],
      "metadata": {
        "colab": {
          "base_uri": "https://localhost:8080/"
        },
        "id": "7GqiIyVrYLZb",
        "outputId": "6fad471d-6e76-4ed6-f934-69b2608b46a6"
      },
      "execution_count": null,
      "outputs": [
        {
          "output_type": "stream",
          "name": "stdout",
          "text": [
            "I am a modified static variable\n",
            "I am a modified static variable\n"
          ]
        }
      ]
    },
    {
      "cell_type": "markdown",
      "source": [
        "Strings"
      ],
      "metadata": {
        "id": "dToIg0sjZ1Vf"
      }
    },
    {
      "cell_type": "markdown",
      "source": [
        "1.Different ways creating a string"
      ],
      "metadata": {
        "id": "o-5hi3asZ3ib"
      }
    },
    {
      "cell_type": "code",
      "source": [
        "# Using single quotes\n",
        "str1 = 'Hello'\n",
        "\n",
        "# Using double quotes\n",
        "str2 = \"World\"\n",
        "\n",
        "# Using triple quotes for multi-line strings\n",
        "str3 = '''This is a\n",
        "multi-line string'''\n",
        "\n",
        "# Using the str() constructor\n",
        "str4 = str(\"Python\")\n"
      ],
      "metadata": {
        "id": "cl9YMnPNaAGM"
      },
      "execution_count": null,
      "outputs": []
    },
    {
      "cell_type": "markdown",
      "source": [
        "2. Concatenating two strings using + operator"
      ],
      "metadata": {
        "id": "vICI1BzzaSAq"
      }
    },
    {
      "cell_type": "code",
      "source": [
        "str1 = \"Hello\"\n",
        "str2 = \"World\"\n",
        "concatenated = str1 + \" \" + str2\n",
        "print(concatenated)\n"
      ],
      "metadata": {
        "colab": {
          "base_uri": "https://localhost:8080/"
        },
        "id": "OgKG9lB7aSn8",
        "outputId": "ff5d68f7-f7da-4c69-e2bd-b5c1775b6c5b"
      },
      "execution_count": null,
      "outputs": [
        {
          "output_type": "stream",
          "name": "stdout",
          "text": [
            "Hello World\n"
          ]
        }
      ]
    },
    {
      "cell_type": "markdown",
      "source": [
        "3. Finding the length of the string"
      ],
      "metadata": {
        "id": "GO2rDgr4aYAi"
      }
    },
    {
      "cell_type": "code",
      "source": [
        "string = \"Python\"\n",
        "length = len(string)\n",
        "print(length)\n"
      ],
      "metadata": {
        "colab": {
          "base_uri": "https://localhost:8080/"
        },
        "id": "frz-EStzacky",
        "outputId": "dd22825e-7597-4c45-d3c2-964cead96ddf"
      },
      "execution_count": null,
      "outputs": [
        {
          "output_type": "stream",
          "name": "stdout",
          "text": [
            "6\n"
          ]
        }
      ]
    },
    {
      "cell_type": "markdown",
      "source": [
        "4. Extract a string using Substring"
      ],
      "metadata": {
        "id": "RTvrc4RaapAB"
      }
    },
    {
      "cell_type": "code",
      "source": [
        "string = \"Hello, World!\"\n",
        "substring = string[7:12]  # Extracts \"World\"\n",
        "print(substring)\n"
      ],
      "metadata": {
        "colab": {
          "base_uri": "https://localhost:8080/"
        },
        "id": "1rv5Mp_0aqdK",
        "outputId": "85b2a363-33dd-47f0-93df-bb80b1b6e681"
      },
      "execution_count": null,
      "outputs": [
        {
          "output_type": "stream",
          "name": "stdout",
          "text": [
            "World\n"
          ]
        }
      ]
    },
    {
      "cell_type": "markdown",
      "source": [
        "5. Searching in strings using index()"
      ],
      "metadata": {
        "id": "N-bZ1-60bAwU"
      }
    },
    {
      "cell_type": "code",
      "source": [
        "string = \"Hello, World!\"\n",
        "index = string.index(\"World\")\n",
        "print(index)\n"
      ],
      "metadata": {
        "colab": {
          "base_uri": "https://localhost:8080/"
        },
        "id": "YLn_B_TtbDe5",
        "outputId": "39b787e8-cf2e-4969-e05d-b4a72af4bf3b"
      },
      "execution_count": null,
      "outputs": [
        {
          "output_type": "stream",
          "name": "stdout",
          "text": [
            "7\n"
          ]
        }
      ]
    },
    {
      "cell_type": "markdown",
      "source": [
        "6. Matching a String Against a Regular Expression With matches()"
      ],
      "metadata": {
        "id": "Be4xiPb_cD1t"
      }
    },
    {
      "cell_type": "code",
      "source": [
        "import re\n",
        "\n",
        "pattern = r'^[A-Z][a-z]*$'  # Regular expression for a capitalized word\n",
        "string = \"Hello\"\n",
        "\n",
        "match = re.match(pattern, string)\n",
        "if match:\n",
        "    print(\"Match found\")\n",
        "else:\n",
        "    print(\"No match\")\n"
      ],
      "metadata": {
        "colab": {
          "base_uri": "https://localhost:8080/"
        },
        "id": "sMWcUTaucEwr",
        "outputId": "930acc69-0e08-4b2c-908c-d736ebd83334"
      },
      "execution_count": null,
      "outputs": [
        {
          "output_type": "stream",
          "name": "stdout",
          "text": [
            "Match found\n"
          ]
        }
      ]
    },
    {
      "cell_type": "markdown",
      "source": [
        "7. Comparing strings  "
      ],
      "metadata": {
        "id": "DHCr3Z0pcRtF"
      }
    },
    {
      "cell_type": "code",
      "source": [
        "str1 = \"Hello\"\n",
        "str2 = \"World\"\n",
        "\n",
        "# Equality check\n",
        "print(str1 == str2)\n",
        "\n",
        "# Lexicographical comparison\n",
        "print(str1 < str2)\n"
      ],
      "metadata": {
        "colab": {
          "base_uri": "https://localhost:8080/"
        },
        "id": "y0Rov5VHcSnc",
        "outputId": "6d544d45-71ae-4465-d533-6490b066c7b6"
      },
      "execution_count": null,
      "outputs": [
        {
          "output_type": "stream",
          "name": "stdout",
          "text": [
            "False\n",
            "True\n"
          ]
        }
      ]
    },
    {
      "cell_type": "markdown",
      "source": [
        "8. startsWith(), endsWith() and compareTo()"
      ],
      "metadata": {
        "id": "4wFx6Iz-cdIx"
      }
    },
    {
      "cell_type": "code",
      "source": [
        "string = \"Hello, World!\"\n",
        "\n",
        "# startswith()\n",
        "print(string.startswith(\"Hello\"))  # Output: True\n",
        "\n",
        "# endswith()\n",
        "print(string.endswith(\"World!\"))   # Output: True\n"
      ],
      "metadata": {
        "colab": {
          "base_uri": "https://localhost:8080/"
        },
        "id": "_SAfunlachUb",
        "outputId": "30a2f9cc-0ee5-47cc-dbac-44d7c7bb1ff3"
      },
      "execution_count": null,
      "outputs": [
        {
          "output_type": "stream",
          "name": "stdout",
          "text": [
            "True\n",
            "True\n"
          ]
        }
      ]
    },
    {
      "cell_type": "markdown",
      "source": [
        "9. Trimming strings with strip()"
      ],
      "metadata": {
        "id": "kGUYeSIfctpm"
      }
    },
    {
      "cell_type": "code",
      "source": [
        "string = \"   Hello, World!   \"\n",
        "trim = string.strip()\n",
        "print(trim)\n"
      ],
      "metadata": {
        "colab": {
          "base_uri": "https://localhost:8080/"
        },
        "id": "BU-ZwGw1cxGZ",
        "outputId": "46013e8d-10a8-4a9b-b0f9-08f2fa95bf2b"
      },
      "execution_count": null,
      "outputs": [
        {
          "output_type": "stream",
          "name": "stdout",
          "text": [
            "Hello, World!\n"
          ]
        }
      ]
    },
    {
      "cell_type": "markdown",
      "source": [
        "10. Replacing characters in strings with replace()"
      ],
      "metadata": {
        "id": "iIhGzb-Ec-Op"
      }
    },
    {
      "cell_type": "code",
      "source": [
        "str = \"Hello, World!\"\n",
        "replaced = str.replace(\"World\", \"Python\")\n",
        "print(replaced)\n"
      ],
      "metadata": {
        "colab": {
          "base_uri": "https://localhost:8080/"
        },
        "id": "Ih-fzzdhc-5g",
        "outputId": "1e744ede-9589-44a6-9d51-6ca1a84da7d6"
      },
      "execution_count": null,
      "outputs": [
        {
          "output_type": "stream",
          "name": "stdout",
          "text": [
            "Hello, Python!\n"
          ]
        }
      ]
    },
    {
      "cell_type": "markdown",
      "source": [
        "11. Splitting strings with split()"
      ],
      "metadata": {
        "id": "F5n5Kw8KdOtG"
      }
    },
    {
      "cell_type": "code",
      "source": [
        "string = \"Hello, World, Python\"\n",
        "split_list = string.split(\", \")\n",
        "print(split_list)\n"
      ],
      "metadata": {
        "colab": {
          "base_uri": "https://localhost:8080/"
        },
        "id": "WbpdSp9HdP5W",
        "outputId": "b5850702-9f5b-4659-9295-4d04d8c95482"
      },
      "execution_count": null,
      "outputs": [
        {
          "output_type": "stream",
          "name": "stdout",
          "text": [
            "['Hello', 'World', 'Python']\n"
          ]
        }
      ]
    },
    {
      "cell_type": "markdown",
      "source": [
        "12. Converting integer objects to Strings"
      ],
      "metadata": {
        "id": "BL7AK355dY_x"
      }
    },
    {
      "cell_type": "code",
      "source": [
        "my_list = [1, 2, 3]\n",
        "my_dict = {'name': 'Alice', 'age': 30}\n",
        "my_tuple = (4, 5, 6)\n",
        "\n",
        "string_list = str(my_list)\n",
        "string_dict = str(my_dict)\n",
        "string_tuple = str(my_tuple)\n",
        "\n",
        "print(string_list)  # Output: '[1, 2, 3]'\n",
        "print(string_dict)  # Output: \"{'name': 'Alice', 'age': 30}\"\n",
        "print(string_tuple)  # Output: '(4, 5, 6)'"
      ],
      "metadata": {
        "id": "Uc6JPYKiif8D",
        "outputId": "6434a1b5-541b-46bc-cedc-69662a4e08af",
        "colab": {
          "base_uri": "https://localhost:8080/"
        }
      },
      "execution_count": null,
      "outputs": [
        {
          "output_type": "stream",
          "name": "stdout",
          "text": [
            "[1, 2, 3]\n",
            "{'name': 'Alice', 'age': 30}\n",
            "(4, 5, 6)\n"
          ]
        }
      ]
    },
    {
      "cell_type": "markdown",
      "source": [
        "13. Converting to uppercase and lowercase"
      ],
      "metadata": {
        "id": "JdQRm2j6fmIX"
      }
    },
    {
      "cell_type": "code",
      "source": [
        "string = \"Hello, World!\"\n",
        "\n",
        "# Convert to uppercase\n",
        "upper_case = string.upper()\n",
        "print(upper_case)\n",
        "\n",
        "# Convert to lowercase\n",
        "lower_case = string.lower()\n",
        "print(lower_case)\n"
      ],
      "metadata": {
        "colab": {
          "base_uri": "https://localhost:8080/"
        },
        "id": "2MTejvlKfm-y",
        "outputId": "470bef2d-fd32-4b5e-ad1a-9bc54cf34292"
      },
      "execution_count": null,
      "outputs": [
        {
          "output_type": "stream",
          "name": "stdout",
          "text": [
            "HELLO, WORLD!\n",
            "hello, world!\n"
          ]
        }
      ]
    },
    {
      "cell_type": "markdown",
      "source": [
        "Inheritance"
      ],
      "metadata": {
        "id": "RXgHotAQmUxe"
      }
    },
    {
      "cell_type": "markdown",
      "source": [
        "1. A, B and C are classes\n",
        "A is a super class. B is a sub class of A. C is a sub class of B.  \n",
        "Create three methods in each class, 2 methods are specific to each class and third\n",
        "method (override method) should be in all three Classes A, B and C\n",
        "Create a class with main method. Create an object for each class A, B and C in main\n",
        "method and call every method of each class using its own object/instance.\n",
        "Call an overridden method with super class reference to B and C class’s objects\n",
        "Runtime Polymorphism with Data Members/Instance variables, Repeat the above\n",
        "process only for data members"
      ],
      "metadata": {
        "id": "RIK22LX5mdYz"
      }
    },
    {
      "cell_type": "code",
      "source": [
        "class A:\n",
        "    data_member_a = \"A data member\"\n",
        "\n",
        "    def method_a1(self):\n",
        "        print(\"A method 1\")\n",
        "\n",
        "    def method_a2(self):\n",
        "        print(\"A method 2\")\n",
        "\n",
        "    def override_method(self):\n",
        "        print(\"A override method\")\n",
        "\n",
        "class B(A):\n",
        "    data_member_b = \"B data member\"\n",
        "\n",
        "    def method_b1(self):\n",
        "        print(\"B method 1\")\n",
        "\n",
        "    def method_b2(self):\n",
        "        print(\"B method 2\")\n",
        "\n",
        "    def override_method(self):\n",
        "        print(\"B override method\")\n",
        "\n",
        "class C(B):\n",
        "    data_member_c = \"C data member\"\n",
        "\n",
        "    def method_c1(self):\n",
        "        print(\"C method 1\")\n",
        "\n",
        "    def method_c2(self):\n",
        "        print(\"C method 2\")\n",
        "\n",
        "    def override_method(self):\n",
        "        print(\"C override method\")\n",
        "\n",
        "class Main:\n",
        "    def main(self):\n",
        "        a = A()\n",
        "        b = B()\n",
        "        c = C()\n",
        "\n",
        "        print(\"Calling methods on A object:\")\n",
        "        a.method_a1()\n",
        "        a.method_a2()\n",
        "        a.override_method()\n",
        "\n",
        "        print(\"\\nCalling methods on B object:\")\n",
        "        b.method_b1()\n",
        "        b.method_b2()\n",
        "        b.override_method()\n",
        "\n",
        "        print(\"\\nCalling methods on C object:\")\n",
        "        c.method_c1()\n",
        "        c.method_c2()\n",
        "        c.override_method()\n",
        "\n",
        "        print(\"\\nRuntime Polymorphism with method overriding:\")\n",
        "        a_ref = A()\n",
        "        b_ref = a_ref\n",
        "        c_ref = a_ref\n",
        "\n",
        "        b_ref = b\n",
        "        c_ref = c\n",
        "\n",
        "        b_ref.override_method()\n",
        "        c_ref.override_method()\n",
        "\n",
        "        print(\"\\nRuntime Polymorphism with data members:\")\n",
        "        a_ref = a\n",
        "        b_ref = a_ref\n",
        "        c_ref = a_ref\n",
        "\n",
        "        b_ref = b\n",
        "        c_ref = c\n",
        "\n",
        "        print(a_ref.data_member_a)\n",
        "        print(b_ref.data_member_b)\n",
        "        print(c_ref.data_member_c)\n",
        "\n",
        "if __name__ == \"__main__\":\n",
        "    main = Main()\n",
        "    main.main()"
      ],
      "metadata": {
        "colab": {
          "base_uri": "https://localhost:8080/"
        },
        "id": "kexPr-N2m49z",
        "outputId": "e641a001-292a-4559-98b7-9d6c6600e970"
      },
      "execution_count": null,
      "outputs": [
        {
          "output_type": "stream",
          "name": "stdout",
          "text": [
            "Calling methods on A object:\n",
            "A method 1\n",
            "A method 2\n",
            "A override method\n",
            "\n",
            "Calling methods on B object:\n",
            "B method 1\n",
            "B method 2\n",
            "B override method\n",
            "\n",
            "Calling methods on C object:\n",
            "C method 1\n",
            "C method 2\n",
            "C override method\n",
            "\n",
            "Runtime Polymorphism with method overriding:\n",
            "B override method\n",
            "C override method\n",
            "\n",
            "Runtime Polymorphism with data members:\n",
            "A data member\n",
            "B data member\n",
            "C data member\n"
          ]
        }
      ]
    },
    {
      "cell_type": "markdown",
      "source": [
        "Accesss Modifiers"
      ],
      "metadata": {
        "id": "1iFbxXq_nI5R"
      }
    },
    {
      "cell_type": "markdown",
      "source": [
        "1. Create a class with PRIVATE fields, private method and a main method. Print the fields in main method. Call the private method in main method. Create a sub class and try to access the private fields and methods from sub class."
      ],
      "metadata": {
        "id": "fwM1UDiBnLL9"
      }
    },
    {
      "cell_type": "code",
      "source": [
        "class Parent:\n",
        "    def __init__(self):\n",
        "        self.__private_field = \"Private field \"\n",
        "\n",
        "    def __private_method(self):\n",
        "        print(\"Private method\")\n",
        "\n",
        "    def main(self):\n",
        "        print(\"In main method:\")\n",
        "        print(self.__private_field)\n",
        "        self.__private_method()\n",
        "\n",
        "class Child(Parent):\n",
        "    def child_method(self):\n",
        "        try:\n",
        "            print(\"Accessing private field from child class:\", self.__private_field)\n",
        "        except AttributeError:\n",
        "            print(\"Cannot access private field from child class\")\n",
        "\n",
        "        try:\n",
        "            self.__private_method()\n",
        "        except AttributeError:\n",
        "            print(\"Cannot access private method from child class\")\n",
        "\n",
        "if __name__ == \"__main__\":\n",
        "    parent = Parent()\n",
        "    parent.main()\n",
        "\n",
        "    child = Child()\n",
        "    child.child_method()"
      ],
      "metadata": {
        "colab": {
          "base_uri": "https://localhost:8080/"
        },
        "id": "byhCm1fonR4f",
        "outputId": "53cfe251-f0c9-4f92-a40a-cd9160010518"
      },
      "execution_count": null,
      "outputs": [
        {
          "output_type": "stream",
          "name": "stdout",
          "text": [
            "In main method:\n",
            "Private field \n",
            "Private method\n",
            "Cannot access private field from child class\n",
            "Cannot access private method from child class\n"
          ]
        }
      ]
    },
    {
      "cell_type": "markdown",
      "source": [
        "2. Create a class with PROTECTED fields and methods. Access these fields and methods\n",
        "from any other class in the same package.  \n"
      ],
      "metadata": {
        "id": "LVArXQeXnq2s"
      }
    },
    {
      "cell_type": "code",
      "source": [
        "# Base class with protected fields and methods\n",
        "class BaseClass:\n",
        "    def __init__(self):\n",
        "        self._protected_field = \"This is a protected field\"\n",
        "\n",
        "    def _protected_method(self):\n",
        "        return \"This is a protected method\"\n",
        "\n",
        "\n",
        "# Another class in the same package accessing the protected fields/methods\n",
        "class AnotherClassInSamePackage:\n",
        "    def access_protected(self):\n",
        "        base_obj = BaseClass()\n",
        "        print(base_obj._protected_field)  # Accessing protected field\n",
        "        print(base_obj._protected_method())  # Accessing protected method\n",
        "\n",
        "\n",
        "# Testing access from the same package\n",
        "if __name__ == \"__main__\":\n",
        "    obj = AnotherClassInSamePackage()\n",
        "    obj.access_protected()\n"
      ],
      "metadata": {
        "colab": {
          "base_uri": "https://localhost:8080/"
        },
        "id": "jKcoet3wotc_",
        "outputId": "ca0728ca-f8d6-4c31-f33c-095f0dac8e6d"
      },
      "execution_count": null,
      "outputs": [
        {
          "output_type": "stream",
          "name": "stdout",
          "text": [
            "This is a protected field\n",
            "This is a protected method\n"
          ]
        }
      ]
    },
    {
      "cell_type": "markdown",
      "source": [
        "Abstract Class"
      ],
      "metadata": {
        "id": "b7MdDcZEp8BZ"
      }
    },
    {
      "cell_type": "markdown",
      "source": [
        "1. Create an abstract class with abstract and non-abstract methods."
      ],
      "metadata": {
        "id": "6hIJuR89p_Q4"
      }
    },
    {
      "cell_type": "code",
      "source": [
        "from abc import ABC, abstractmethod\n",
        "\n",
        "class AbstractClass(ABC):\n",
        "    def __init__(self):\n",
        "        self.name = \"Abstract Base Class\"\n",
        "\n",
        "    def non_abstract_method(self):\n",
        "        print(\"This is a non-abstract method from the AbstractClass.\")\n",
        "\n",
        "    @abstractmethod\n",
        "    def abstract_method(self):\n",
        "        pass"
      ],
      "metadata": {
        "id": "Hxe2hT7aqTHF"
      },
      "execution_count": null,
      "outputs": []
    },
    {
      "cell_type": "markdown",
      "source": [
        "2. Create a sub class for an abstract class. Create an object in the child class for the  \n",
        "abstract class and access the non-abstract methods"
      ],
      "metadata": {
        "id": "DHYq8_g7qbAV"
      }
    },
    {
      "cell_type": "code",
      "source": [
        "# Subclass of the AbstractClass\n",
        "class ChildClass(AbstractClass):\n",
        "    def __init__(self):\n",
        "        super().__init__()\n",
        "\n",
        "    def abstract_method(self):\n",
        "        print(\"This is the implementation of the abstract method in the ChildClass.\")\n",
        "\n",
        "    def access_non_abstract_method(self):\n",
        "        self.non_abstract_method()\n",
        "\n"
      ],
      "metadata": {
        "id": "hOV8v0QlqbxL"
      },
      "execution_count": null,
      "outputs": []
    },
    {
      "cell_type": "markdown",
      "source": [
        "3. Create an instance for the child class in child class and call abstract methods"
      ],
      "metadata": {
        "id": "KoUh6-5Yqvgp"
      }
    },
    {
      "cell_type": "code",
      "source": [
        "if __name__ == \"__main__\":\n",
        "    child_obj = ChildClass()\n",
        "    child_obj.abstract_method()\n"
      ],
      "metadata": {
        "colab": {
          "base_uri": "https://localhost:8080/"
        },
        "id": "g5S4UpX0qwM6",
        "outputId": "0363fa52-ec54-480d-a939-b90411cafa56"
      },
      "execution_count": null,
      "outputs": [
        {
          "output_type": "stream",
          "name": "stdout",
          "text": [
            "This is the implementation of the abstract method in the ChildClass.\n"
          ]
        }
      ]
    },
    {
      "cell_type": "markdown",
      "source": [
        "4. Create an instance for the child class in child class and call non-abstract methods"
      ],
      "metadata": {
        "id": "Rv3HrCqjq2sq"
      }
    },
    {
      "cell_type": "code",
      "source": [
        "if __name__ == \"__main__\":\n",
        "    child_obj = ChildClass()\n",
        "    child_obj.non_abstract_method()\n"
      ],
      "metadata": {
        "colab": {
          "base_uri": "https://localhost:8080/"
        },
        "id": "x7f2UjoOq31m",
        "outputId": "af6e1a45-fe95-4948-aa3a-8b369419c469"
      },
      "execution_count": null,
      "outputs": [
        {
          "output_type": "stream",
          "name": "stdout",
          "text": [
            "This is a non-abstract method from the AbstractClass.\n"
          ]
        }
      ]
    },
    {
      "cell_type": "markdown",
      "source": [
        "Packages"
      ],
      "metadata": {
        "id": "No1jfDhUrWac"
      }
    },
    {
      "cell_type": "markdown",
      "source": [
        "Create a program to create two class.\n",
        "\n",
        "1.1. Create a constructor and a method for each class\n",
        "\n",
        "1.2. Create a __init__.py for adding all packages\n",
        "\n",
        "1.3. Import the respective packages\n",
        "\n",
        "1.4. Call each class by creating an object to it  \n",
        "\n",
        "1.5. Create a program by all the above"
      ],
      "metadata": {
        "id": "CQ5zHh02hT7U"
      }
    },
    {
      "cell_type": "markdown",
      "source": [],
      "metadata": {
        "id": "qA-2sgEziYHB"
      }
    },
    {
      "cell_type": "code",
      "source": [
        "# Define the first class\n",
        "%%time\n",
        "class Person:\n",
        "    def __init__(self, name, age):\n",
        "        self.name = name\n",
        "        self.age = age\n",
        "\n",
        "    def display(self):\n",
        "        print(f\"Name: {self.name}, Age: {self.age}\")\n",
        "\n",
        "# Define the second class\n",
        "class Student:\n",
        "    def __init__(self, student_id, major):\n",
        "        self.student_id = student_id\n",
        "        self.major = major\n",
        "\n",
        "    def display(self):\n",
        "        print(f\"Student ID: {self.student_id}, Major: {self.major}\")\n",
        "\n",
        "# Create instances of the classes\n",
        "person1 = Person(\"Mahesh\", 22)\n",
        "student1 = Student(\"S12345\", \"Information Technology\")\n",
        "\n",
        "# Call the display method for each instance\n",
        "person1.display()\n",
        "student1.display()\n"
      ],
      "metadata": {
        "colab": {
          "base_uri": "https://localhost:8080/"
        },
        "id": "b14NqKIFCgwx",
        "outputId": "7f42ae6d-900c-4bbd-dd46-9ae4a641afa8"
      },
      "execution_count": null,
      "outputs": [
        {
          "output_type": "stream",
          "name": "stdout",
          "text": [
            "Name: Mahesh, Age: 22\n",
            "Student ID: S12345, Major: Information Technology\n",
            "CPU times: user 2.5 ms, sys: 0 ns, total: 2.5 ms\n",
            "Wall time: 2.51 ms\n"
          ]
        }
      ]
    },
    {
      "cell_type": "code",
      "source": [
        "pip install my_package\n"
      ],
      "metadata": {
        "colab": {
          "base_uri": "https://localhost:8080/"
        },
        "id": "_ofSuwcSGIjM",
        "outputId": "e2526370-d331-45f5-862c-9ba786c64757"
      },
      "execution_count": null,
      "outputs": [
        {
          "output_type": "stream",
          "name": "stdout",
          "text": [
            "Collecting my_package\n",
            "  Downloading my_package-0.0.0-py3-none-any.whl.metadata (174 bytes)\n",
            "Downloading my_package-0.0.0-py3-none-any.whl (2.0 kB)\n",
            "Installing collected packages: my_package\n",
            "Successfully installed my_package-0.0.0\n"
          ]
        }
      ]
    },
    {
      "cell_type": "markdown",
      "source": [
        "Constructors"
      ],
      "metadata": {
        "id": "rLu5TmKHJSxT"
      }
    },
    {
      "cell_type": "markdown",
      "source": [
        "1. Write a class with a default constructor, one argument constructor and two argument constructors. Instantiate the class to call all the constructors of that class from a main class"
      ],
      "metadata": {
        "id": "GEoyNe20J0Yf"
      }
    },
    {
      "cell_type": "code",
      "source": [
        "class MyClass:\n",
        "    def __init__(self, arg1=None, arg2=None):\n",
        "        if arg1 is None and arg2 is None:\n",
        "            print(\"Default constructor called\")\n",
        "        elif arg2 is None:\n",
        "            print(f\"One argument constructor called with arg1: {arg1}\")\n",
        "        else:\n",
        "            print(f\"Two argument constructor called with arg1: {arg1} and arg2: {arg2}\")\n",
        "\n",
        "# Main class to instantiate MyClass and call all constructors\n",
        "class MainClass:\n",
        "    def __init__(self):\n",
        "        # Calling default constructor\n",
        "        obj1 = MyClass()\n",
        "        # Calling one argument constructor\n",
        "        obj2 = MyClass(\"Hello\")\n",
        "        # Calling two argument constructor\n",
        "        obj3 = MyClass(\"Hello\", \"World\")\n",
        "\n",
        "# Instantiate MainClass to call all constructors\n",
        "main_obj = MainClass()"
      ],
      "metadata": {
        "colab": {
          "base_uri": "https://localhost:8080/"
        },
        "id": "Jj_EQGIUJ30i",
        "outputId": "ee5601d5-ccfd-4b5a-9093-5047098b0847"
      },
      "execution_count": null,
      "outputs": [
        {
          "output_type": "stream",
          "name": "stdout",
          "text": [
            "Default constructor called\n",
            "One argument constructor called with arg1: Hello\n",
            "Two argument constructor called with arg1: Hello and arg2: World\n"
          ]
        }
      ]
    },
    {
      "cell_type": "markdown",
      "source": [
        "2. Call the constructors(both default and argument constructors) of super class from a child class"
      ],
      "metadata": {
        "id": "-6yMFVt4KHPp"
      }
    },
    {
      "cell_type": "code",
      "source": [
        "class SuperClass:\n",
        "    def __init__(self, arg1=None):\n",
        "        if arg1 is None:\n",
        "            print(\"SuperClass default constructor called\")\n",
        "        else:\n",
        "            print(f\"SuperClass one argument constructor called with arg1: {arg1}\")\n",
        "\n",
        "class ChildClass(SuperClass):\n",
        "    def __init__(self, arg1=None):\n",
        "        if arg1 is None:\n",
        "            super().__init__()\n",
        "        else:\n",
        "            super().__init__(arg1)\n",
        "        print(\"ChildClass constructor called\")\n",
        "\n",
        "# Instantiate ChildClass to call both constructors of SuperClass\n",
        "child_obj1 = ChildClass()\n",
        "child_obj2 = ChildClass(\"Hello\")"
      ],
      "metadata": {
        "colab": {
          "base_uri": "https://localhost:8080/"
        },
        "id": "CMRzCZiIKNaY",
        "outputId": "04017555-a769-412c-c799-1581dee21aa2"
      },
      "execution_count": null,
      "outputs": [
        {
          "output_type": "stream",
          "name": "stdout",
          "text": [
            "SuperClass default constructor called\n",
            "ChildClass constructor called\n",
            "SuperClass one argument constructor called with arg1: Hello\n",
            "ChildClass constructor called\n"
          ]
        }
      ]
    },
    {
      "cell_type": "markdown",
      "source": [
        "3. Apply private, public, protected and default access modifiers to the constructor"
      ],
      "metadata": {
        "id": "QMxLE4jhKdUa"
      }
    },
    {
      "cell_type": "code",
      "source": [
        "class AccessModifiersClass:\n",
        "    def __init__(self, public, _protected, __private):\n",
        "        self.public = public\n",
        "        self._protected = _protected\n",
        "        self.__private = __private\n",
        "\n",
        "    def display(self):\n",
        "        print(f\"Public: {self.public}, Protected: {self._protected}, Private: {self.__private}\")\n",
        "\n",
        "# Instantiate AccessModifiersClass\n",
        "access_obj = AccessModifiersClass(\"Public Value\", \"Protected Value\", \"Private Value\")\n",
        "access_obj.display()"
      ],
      "metadata": {
        "colab": {
          "base_uri": "https://localhost:8080/"
        },
        "id": "eZA0x9NyKh8z",
        "outputId": "832ab6a3-547c-4bd5-d0b5-6901e1315e89"
      },
      "execution_count": null,
      "outputs": [
        {
          "output_type": "stream",
          "name": "stdout",
          "text": [
            "Public: Public Value, Protected: Protected Value, Private: Private Value\n"
          ]
        }
      ]
    },
    {
      "cell_type": "markdown",
      "source": [
        "4. Write a program which illustrates the concept of attributes of a constructor"
      ],
      "metadata": {
        "id": "W5RVNOyEKxjr"
      }
    },
    {
      "cell_type": "code",
      "source": [
        "class AttributesClass:\n",
        "    def __init__(self, name, age):\n",
        "        self.name = name\n",
        "        self.age = age\n",
        "\n",
        "    def display_attributes(self):\n",
        "        print(f\"Name: {self.name}, Age: {self.age}\")\n",
        "\n",
        "# Instantiate AttributesClass and display attributes\n",
        "attributes_obj = AttributesClass(\"Mahesh\", 22)\n",
        "attributes_obj.display_attributes()"
      ],
      "metadata": {
        "colab": {
          "base_uri": "https://localhost:8080/"
        },
        "id": "BXOSTnjOKrgC",
        "outputId": "2577943a-fc68-4e4e-cb1c-0a915326caa1"
      },
      "execution_count": null,
      "outputs": [
        {
          "output_type": "stream",
          "name": "stdout",
          "text": [
            "Name: Mahesh, Age: 22\n"
          ]
        }
      ]
    },
    {
      "cell_type": "markdown",
      "source": [
        "Method Overloading"
      ],
      "metadata": {
        "id": "ET6mY_LXK8I6"
      }
    },
    {
      "cell_type": "markdown",
      "source": [
        "1. Write two methods with the same name but different number of parameters of same type and call the methods  \n"
      ],
      "metadata": {
        "id": "F9HCthFOK-7d"
      }
    },
    {
      "cell_type": "markdown",
      "source": [
        "  2. Write two methods with the same name but different number of parameters of different data type and call the methods  \n"
      ],
      "metadata": {
        "id": "l46s8BtALD5O"
      }
    },
    {
      "cell_type": "markdown",
      "source": [
        "  3. Write two methods with the same name and same number of parameters of same type  "
      ],
      "metadata": {
        "id": "Jp-PNaSGLIpR"
      }
    },
    {
      "cell_type": "code",
      "source": [
        "class OverloadExample:\n",
        "    # Method with one parameter\n",
        "    def add(self, a):\n",
        "        print(\"Sum with one parameter: {a}\")\n",
        "\n",
        "    # Method with two parameters\n",
        "    def add(self, a, b):\n",
        "        print(\"Sum with two parameters: {a + b}\")\n",
        "\n",
        "# Creating object\n",
        "obj = OverloadExample()\n",
        "obj.add(5, 10)\n"
      ],
      "metadata": {
        "colab": {
          "base_uri": "https://localhost:8080/"
        },
        "id": "v2mcJ2FBNHhs",
        "outputId": "b309c897-62cc-4030-b016-bbbfdae54169"
      },
      "execution_count": null,
      "outputs": [
        {
          "output_type": "stream",
          "name": "stdout",
          "text": [
            "Sum with two parameters: {a + b}\n"
          ]
        }
      ]
    },
    {
      "cell_type": "code",
      "source": [
        "class OverloadExample:\n",
        "    # Method with two integer parameters\n",
        "    def add(self, a, b):\n",
        "        if isinstance(a, int) and isinstance(b, int):\n",
        "            print(f\"Integer addition: {a + b}\")\n",
        "        elif isinstance(a, str) and isinstance(b, str):\n",
        "            print(f\"String concatenation: {a + b}\")\n",
        "\n",
        "# Creating object\n",
        "obj = OverloadExample()\n",
        "obj.add(5, 10)\n",
        "obj.add(\"Hello, \", \"World!\")\n"
      ],
      "metadata": {
        "colab": {
          "base_uri": "https://localhost:8080/"
        },
        "id": "yu3CCkXGNqJS",
        "outputId": "54ce5038-b575-470d-9382-1a6c2376c02b"
      },
      "execution_count": null,
      "outputs": [
        {
          "output_type": "stream",
          "name": "stdout",
          "text": [
            "Integer addition: 15\n",
            "String concatenation: Hello, World!\n"
          ]
        }
      ]
    },
    {
      "cell_type": "code",
      "source": [
        "class OverloadExample:\n",
        "    # Method with two integer parameters\n",
        "    def add(self, a, b):\n",
        "        print(f\"Method with two integer parameters: {a + b}\")\n",
        "\n",
        "    # Second method, this would override the first one if placed later\n",
        "    def add(self, a, b):\n",
        "        print(f\"Method with two string parameters: {a + b}\")\n",
        "\n",
        "obj = OverloadExample()\n",
        "obj.add(10, 20)\n"
      ],
      "metadata": {
        "colab": {
          "base_uri": "https://localhost:8080/"
        },
        "id": "ESr_nq3KNzXA",
        "outputId": "70375da6-2cd6-41e8-dce1-6d93476fe201"
      },
      "execution_count": null,
      "outputs": [
        {
          "output_type": "stream",
          "name": "stdout",
          "text": [
            "Method with two string parameters: 30\n"
          ]
        }
      ]
    },
    {
      "cell_type": "markdown",
      "source": [
        "Exceptions"
      ],
      "metadata": {
        "id": "vJ6Jb6MqOGgf"
      }
    },
    {
      "cell_type": "markdown",
      "source": [
        "1. Write a program to generate Arithmetic Exception without exception handling\n",
        "2. Handle the Arithmetic exception using try-catch block\n",
        "3. Write a method which throws exception, Call that method in main class without try block\n",
        "4. Write a program with multiple catch blocks\n",
        "5. Write a program to throw exception with your own message\n",
        "6. Write a program to create your own exception\n",
        "7. Write a program with finally block\n",
        "8. Write a program to generate Arithmetic Exception\n",
        "9. Write a program to generate FileNotFoundException\n",
        "10. Write a program to generate ClassNotFoundException\n",
        "11. Write a program to generate IOException\n",
        "12. Write a program to generate NoSuchFieldException"
      ],
      "metadata": {
        "id": "cQLtGTwcOFQO"
      }
    },
    {
      "cell_type": "code",
      "source": [
        "result = 10 / 0\n",
        "print(result)\n"
      ],
      "metadata": {
        "colab": {
          "base_uri": "https://localhost:8080/",
          "height": 158
        },
        "id": "-mkQR5C6OJ5G",
        "outputId": "b2e21cb2-f452-41fc-ff70-8a828753d705"
      },
      "execution_count": null,
      "outputs": [
        {
          "output_type": "error",
          "ename": "ZeroDivisionError",
          "evalue": "division by zero",
          "traceback": [
            "\u001b[0;31m---------------------------------------------------------------------------\u001b[0m",
            "\u001b[0;31mZeroDivisionError\u001b[0m                         Traceback (most recent call last)",
            "\u001b[0;32m<ipython-input-37-c1bd87d14f37>\u001b[0m in \u001b[0;36m<cell line: 1>\u001b[0;34m()\u001b[0m\n\u001b[0;32m----> 1\u001b[0;31m \u001b[0mresult\u001b[0m \u001b[0;34m=\u001b[0m \u001b[0;36m10\u001b[0m \u001b[0;34m/\u001b[0m \u001b[0;36m0\u001b[0m\u001b[0;34m\u001b[0m\u001b[0;34m\u001b[0m\u001b[0m\n\u001b[0m\u001b[1;32m      2\u001b[0m \u001b[0mprint\u001b[0m\u001b[0;34m(\u001b[0m\u001b[0mresult\u001b[0m\u001b[0;34m)\u001b[0m\u001b[0;34m\u001b[0m\u001b[0;34m\u001b[0m\u001b[0m\n",
            "\u001b[0;31mZeroDivisionError\u001b[0m: division by zero"
          ]
        }
      ]
    },
    {
      "cell_type": "code",
      "source": [
        "try:\n",
        "    result = 10 / 0\n",
        "    print(result)\n",
        "except ZeroDivisionError as e:\n",
        "    print(f\"ZeroDivisionError occurred: {e}\")\n"
      ],
      "metadata": {
        "colab": {
          "base_uri": "https://localhost:8080/"
        },
        "id": "vr22kjvXOmJA",
        "outputId": "16db8e35-9471-4e24-db3a-ae6f32605351"
      },
      "execution_count": null,
      "outputs": [
        {
          "output_type": "stream",
          "name": "stdout",
          "text": [
            "ZeroDivisionError occurred: division by zero\n"
          ]
        }
      ]
    },
    {
      "cell_type": "code",
      "source": [
        "def throw_exception():\n",
        "    raise Exception(\"This is a custom exception!\")\n",
        "\n",
        "# Calling the method without try-catch\n",
        "throw_exception()\n"
      ],
      "metadata": {
        "colab": {
          "base_uri": "https://localhost:8080/",
          "height": 297
        },
        "id": "Vf3gPgl3OzoA",
        "outputId": "5a350e38-0251-4291-9357-6eaef87a360d"
      },
      "execution_count": null,
      "outputs": [
        {
          "output_type": "error",
          "ename": "Exception",
          "evalue": "This is a custom exception!",
          "traceback": [
            "\u001b[0;31m---------------------------------------------------------------------------\u001b[0m",
            "\u001b[0;31mException\u001b[0m                                 Traceback (most recent call last)",
            "\u001b[0;32m<ipython-input-40-ef0819797720>\u001b[0m in \u001b[0;36m<cell line: 5>\u001b[0;34m()\u001b[0m\n\u001b[1;32m      3\u001b[0m \u001b[0;34m\u001b[0m\u001b[0m\n\u001b[1;32m      4\u001b[0m \u001b[0;31m# Calling the method without try-catch\u001b[0m\u001b[0;34m\u001b[0m\u001b[0;34m\u001b[0m\u001b[0m\n\u001b[0;32m----> 5\u001b[0;31m \u001b[0mthrow_exception\u001b[0m\u001b[0;34m(\u001b[0m\u001b[0;34m)\u001b[0m\u001b[0;34m\u001b[0m\u001b[0;34m\u001b[0m\u001b[0m\n\u001b[0m",
            "\u001b[0;32m<ipython-input-40-ef0819797720>\u001b[0m in \u001b[0;36mthrow_exception\u001b[0;34m()\u001b[0m\n\u001b[1;32m      1\u001b[0m \u001b[0;32mdef\u001b[0m \u001b[0mthrow_exception\u001b[0m\u001b[0;34m(\u001b[0m\u001b[0;34m)\u001b[0m\u001b[0;34m:\u001b[0m\u001b[0;34m\u001b[0m\u001b[0;34m\u001b[0m\u001b[0m\n\u001b[0;32m----> 2\u001b[0;31m     \u001b[0;32mraise\u001b[0m \u001b[0mException\u001b[0m\u001b[0;34m(\u001b[0m\u001b[0;34m\"This is a custom exception!\"\u001b[0m\u001b[0;34m)\u001b[0m\u001b[0;34m\u001b[0m\u001b[0;34m\u001b[0m\u001b[0m\n\u001b[0m\u001b[1;32m      3\u001b[0m \u001b[0;34m\u001b[0m\u001b[0m\n\u001b[1;32m      4\u001b[0m \u001b[0;31m# Calling the method without try-catch\u001b[0m\u001b[0;34m\u001b[0m\u001b[0;34m\u001b[0m\u001b[0m\n\u001b[1;32m      5\u001b[0m \u001b[0mthrow_exception\u001b[0m\u001b[0;34m(\u001b[0m\u001b[0;34m)\u001b[0m\u001b[0;34m\u001b[0m\u001b[0;34m\u001b[0m\u001b[0m\n",
            "\u001b[0;31mException\u001b[0m: This is a custom exception!"
          ]
        }
      ]
    },
    {
      "cell_type": "code",
      "source": [
        "try:\n",
        "    number = int(input(\"Enter a number: \"))\n",
        "    result = 10 / number\n",
        "except ValueError:\n",
        "    print(\"Input was not a valid integer.\")\n",
        "except ZeroDivisionError:\n",
        "    print(\"Cannot divide by zero.\")\n"
      ],
      "metadata": {
        "colab": {
          "base_uri": "https://localhost:8080/"
        },
        "id": "HIbK-0AlO8fH",
        "outputId": "0d3dc623-05fd-40d7-c788-bd440ccd8a41"
      },
      "execution_count": null,
      "outputs": [
        {
          "name": "stdout",
          "output_type": "stream",
          "text": [
            "Enter a number: 10\n"
          ]
        }
      ]
    },
    {
      "cell_type": "code",
      "source": [
        "def throw_custom_exception():\n",
        "    raise Exception(\"Custom message: Something went wrong!\")\n",
        "\n",
        "try:\n",
        "    throw_custom_exception()\n",
        "except Exception as e:\n",
        "    print(e)\n"
      ],
      "metadata": {
        "colab": {
          "base_uri": "https://localhost:8080/"
        },
        "id": "is_cpYzlPfzv",
        "outputId": "4a1a16d1-866e-4fe9-827d-2db88a8d5ae0"
      },
      "execution_count": null,
      "outputs": [
        {
          "output_type": "stream",
          "name": "stdout",
          "text": [
            "Custom message: Something went wrong!\n"
          ]
        }
      ]
    },
    {
      "cell_type": "code",
      "source": [
        "class MyCustomException(Exception):\n",
        "    def __init__(self, message):\n",
        "        self.message = message\n",
        "\n",
        "def raise_custom_exception():\n",
        "    raise MyCustomException(\"This is my custom exception!\")\n",
        "\n",
        "try:\n",
        "    raise_custom_exception()\n",
        "except MyCustomException as e:\n",
        "    print(f\"Caught custom exception: {e.message}\")\n"
      ],
      "metadata": {
        "colab": {
          "base_uri": "https://localhost:8080/"
        },
        "id": "5Zm_FIvuPlsp",
        "outputId": "4c5df535-1c21-4ace-8b43-db2aaa0a03ac"
      },
      "execution_count": null,
      "outputs": [
        {
          "output_type": "stream",
          "name": "stdout",
          "text": [
            "Caught custom exception: This is my custom exception!\n"
          ]
        }
      ]
    },
    {
      "cell_type": "code",
      "source": [
        "try:\n",
        "    result = 10 / 2\n",
        "    print(f\"Result: {result}\")\n",
        "except ZeroDivisionError as e:\n",
        "    print(f\"Exception: {e}\")\n",
        "finally:\n",
        "    print(\"This will always execute.\")\n"
      ],
      "metadata": {
        "colab": {
          "base_uri": "https://localhost:8080/"
        },
        "id": "t2h-Tfy0PpnE",
        "outputId": "bc641300-0dc9-423d-d962-b077e66d46f7"
      },
      "execution_count": null,
      "outputs": [
        {
          "output_type": "stream",
          "name": "stdout",
          "text": [
            "Result: 5.0\n",
            "This will always execute.\n"
          ]
        }
      ]
    },
    {
      "cell_type": "code",
      "source": [
        "# This will cause a ZeroDivisionError (Arithmetic Exception)\n",
        "result = 10 / 0\n"
      ],
      "metadata": {
        "colab": {
          "base_uri": "https://localhost:8080/",
          "height": 158
        },
        "id": "IBtxTUODPvcF",
        "outputId": "8f9147da-73f3-40df-b7c3-646d4f174de0"
      },
      "execution_count": null,
      "outputs": [
        {
          "output_type": "error",
          "ename": "ZeroDivisionError",
          "evalue": "division by zero",
          "traceback": [
            "\u001b[0;31m---------------------------------------------------------------------------\u001b[0m",
            "\u001b[0;31mZeroDivisionError\u001b[0m                         Traceback (most recent call last)",
            "\u001b[0;32m<ipython-input-45-b8dffb7039bd>\u001b[0m in \u001b[0;36m<cell line: 2>\u001b[0;34m()\u001b[0m\n\u001b[1;32m      1\u001b[0m \u001b[0;31m# This will cause a ZeroDivisionError (Arithmetic Exception)\u001b[0m\u001b[0;34m\u001b[0m\u001b[0;34m\u001b[0m\u001b[0m\n\u001b[0;32m----> 2\u001b[0;31m \u001b[0mresult\u001b[0m \u001b[0;34m=\u001b[0m \u001b[0;36m10\u001b[0m \u001b[0;34m/\u001b[0m \u001b[0;36m0\u001b[0m\u001b[0;34m\u001b[0m\u001b[0;34m\u001b[0m\u001b[0m\n\u001b[0m",
            "\u001b[0;31mZeroDivisionError\u001b[0m: division by zero"
          ]
        }
      ]
    },
    {
      "cell_type": "code",
      "source": [
        "# Trying to open a non-existent file\n",
        "with open('non_existent_file.txt', 'r') as file:\n",
        "    content = file.read()\n"
      ],
      "metadata": {
        "colab": {
          "base_uri": "https://localhost:8080/",
          "height": 176
        },
        "id": "xzos5UlIP28S",
        "outputId": "97a6a8f9-e049-4a4f-e91b-3c778a425fe4"
      },
      "execution_count": null,
      "outputs": [
        {
          "output_type": "error",
          "ename": "FileNotFoundError",
          "evalue": "[Errno 2] No such file or directory: 'non_existent_file.txt'",
          "traceback": [
            "\u001b[0;31m---------------------------------------------------------------------------\u001b[0m",
            "\u001b[0;31mFileNotFoundError\u001b[0m                         Traceback (most recent call last)",
            "\u001b[0;32m<ipython-input-46-f6cccddace05>\u001b[0m in \u001b[0;36m<cell line: 2>\u001b[0;34m()\u001b[0m\n\u001b[1;32m      1\u001b[0m \u001b[0;31m# Trying to open a non-existent file\u001b[0m\u001b[0;34m\u001b[0m\u001b[0;34m\u001b[0m\u001b[0m\n\u001b[0;32m----> 2\u001b[0;31m \u001b[0;32mwith\u001b[0m \u001b[0mopen\u001b[0m\u001b[0;34m(\u001b[0m\u001b[0;34m'non_existent_file.txt'\u001b[0m\u001b[0;34m,\u001b[0m \u001b[0;34m'r'\u001b[0m\u001b[0;34m)\u001b[0m \u001b[0;32mas\u001b[0m \u001b[0mfile\u001b[0m\u001b[0;34m:\u001b[0m\u001b[0;34m\u001b[0m\u001b[0;34m\u001b[0m\u001b[0m\n\u001b[0m\u001b[1;32m      3\u001b[0m     \u001b[0mcontent\u001b[0m \u001b[0;34m=\u001b[0m \u001b[0mfile\u001b[0m\u001b[0;34m.\u001b[0m\u001b[0mread\u001b[0m\u001b[0;34m(\u001b[0m\u001b[0;34m)\u001b[0m\u001b[0;34m\u001b[0m\u001b[0;34m\u001b[0m\u001b[0m\n",
            "\u001b[0;31mFileNotFoundError\u001b[0m: [Errno 2] No such file or directory: 'non_existent_file.txt'"
          ]
        }
      ]
    },
    {
      "cell_type": "code",
      "source": [
        "try:\n",
        "    import non_existent_module\n",
        "except ModuleNotFoundError as e:\n",
        "    print(f\"Exception: {e}\")\n"
      ],
      "metadata": {
        "colab": {
          "base_uri": "https://localhost:8080/"
        },
        "id": "8gfaYwRnP9Pq",
        "outputId": "40e31c01-940b-4b71-e3d5-a8791c32137e"
      },
      "execution_count": null,
      "outputs": [
        {
          "output_type": "stream",
          "name": "stdout",
          "text": [
            "Exception: No module named 'non_existent_module'\n"
          ]
        }
      ]
    },
    {
      "cell_type": "code",
      "source": [
        "try:\n",
        "    with open(\"/restricted_access.txt\", \"w\") as file:\n",
        "        file.write(\"Test\")\n",
        "except OSError as e:\n",
        "    print(f\"IOException caught: {e}\")\n"
      ],
      "metadata": {
        "id": "H74dVAwWQA6X"
      },
      "execution_count": null,
      "outputs": []
    },
    {
      "cell_type": "code",
      "source": [
        "class Sample:\n",
        "    def __init__(self):\n",
        "        self.name = \"Sample Class\"\n",
        "\n",
        "obj = Sample()\n",
        "\n",
        "try:\n",
        "    print(obj.non_existent_field)\n",
        "except AttributeError as e:\n",
        "    print(f\"NoSuchFieldException (simulated): {e}\")\n"
      ],
      "metadata": {
        "colab": {
          "base_uri": "https://localhost:8080/"
        },
        "id": "zutgBok_QFk3",
        "outputId": "55a7772c-40be-479e-f7fc-fa517474d5e0"
      },
      "execution_count": null,
      "outputs": [
        {
          "output_type": "stream",
          "name": "stdout",
          "text": [
            "NoSuchFieldException (simulated): 'Sample' object has no attribute 'non_existent_field'\n"
          ]
        }
      ]
    },
    {
      "cell_type": "markdown",
      "source": [
        "Dictionary"
      ],
      "metadata": {
        "id": "HA5eQtYWQR3c"
      }
    },
    {
      "cell_type": "markdown",
      "source": [
        "1. Create a Dictionary with at least 5 key value pairs of the Student ID and Name\n",
        "\n",
        " 1.1. Adding the values in dictionary\n",
        "\n",
        " 1.2. Updating the values in dictionary\n",
        "\n",
        " 1.3. Accessing the value in dictionary\n",
        "\n",
        " 1.4. Create a nested loop dictionary\n",
        "\n",
        " 1.5. Access the values of nested loop dictionary\n",
        "\n",
        " 1.6. Print the keys present in a particular dictionary\n",
        "\n",
        " 1.7. Delete a value from a dictionary"
      ],
      "metadata": {
        "id": "cW-cnKFbQUSR"
      }
    },
    {
      "cell_type": "code",
      "source": [
        "# Creating a dictionary with 5 key-value pairs\n",
        "student_dict = {\n",
        "    101: \"Mahesh\",\n",
        "    102: \"Rakesh\",\n",
        "    103: \"Preethi\",\n",
        "    104: \"Pragna\",\n",
        "    105: \"Vivek\"\n",
        "}\n",
        "\n",
        "print(student_dict)\n"
      ],
      "metadata": {
        "colab": {
          "base_uri": "https://localhost:8080/"
        },
        "id": "ReVn9fJpQXQK",
        "outputId": "f8bc6493-1049-4ef6-dcfe-e1a53a03b90f"
      },
      "execution_count": null,
      "outputs": [
        {
          "output_type": "stream",
          "name": "stdout",
          "text": [
            "{101: 'Mahesh', 102: 'Rakesh', 103: 'Preethi', 104: 'Pragna', 105: 'Vivek'}\n"
          ]
        }
      ]
    },
    {
      "cell_type": "code",
      "source": [
        "# Adding a new student\n",
        "student_dict[106] = \"Frank\"\n",
        "print(student_dict)\n"
      ],
      "metadata": {
        "colab": {
          "base_uri": "https://localhost:8080/"
        },
        "id": "2jcD3EG2Q_5y",
        "outputId": "37600245-5331-4259-d4bb-20d6d48bf90f"
      },
      "execution_count": null,
      "outputs": [
        {
          "output_type": "stream",
          "name": "stdout",
          "text": [
            "{101: 'Mahesh', 102: 'Rakesh', 103: 'Preethi', 104: 'Pragna', 105: 'Vivek', 106: 'Frank'}\n"
          ]
        }
      ]
    },
    {
      "cell_type": "code",
      "source": [
        "# Updating the name of student with ID 102\n",
        "student_dict[102] = \"Bob Updated\"\n",
        "print(student_dict)\n"
      ],
      "metadata": {
        "colab": {
          "base_uri": "https://localhost:8080/"
        },
        "id": "NY67qlv5RC_x",
        "outputId": "cfc45bf7-cf59-4b6a-f0bd-991f9515f411"
      },
      "execution_count": null,
      "outputs": [
        {
          "output_type": "stream",
          "name": "stdout",
          "text": [
            "{101: 'Mahesh', 102: 'Bob Updated', 103: 'Preethi', 104: 'Pragna', 105: 'Vivek', 106: 'Frank'}\n"
          ]
        }
      ]
    },
    {
      "cell_type": "code",
      "source": [
        "# Accessing the name of the student with ID 103\n",
        "student_name = student_dict[103]\n",
        "print(f\"Student with ID 103 is {student_name}\")\n"
      ],
      "metadata": {
        "colab": {
          "base_uri": "https://localhost:8080/"
        },
        "id": "PJb2HQ_uRJFx",
        "outputId": "496b5cca-b664-4c35-a760-650dff612b4b"
      },
      "execution_count": null,
      "outputs": [
        {
          "output_type": "stream",
          "name": "stdout",
          "text": [
            "Student with ID 103 is Charlie\n"
          ]
        }
      ]
    },
    {
      "cell_type": "code",
      "source": [
        "# Creating a nested dictionary with student details\n",
        "nested_student_dict = {\n",
        "    101: {\"name\": \"Mahesh\", \"age\": 20, \"grade\": \"A\"},\n",
        "    102: {\"name\": \"Rakesh\", \"age\": 21, \"grade\": \"B\"},\n",
        "    103: {\"name\": \"Preethi\", \"age\": 22, \"grade\": \"A\"},\n",
        "}\n",
        "\n",
        "print(nested_student_dict)\n"
      ],
      "metadata": {
        "colab": {
          "base_uri": "https://localhost:8080/"
        },
        "id": "uhnnjLvrRMZA",
        "outputId": "3dd03f08-0a1a-43bc-825a-d3ca4f0469e8"
      },
      "execution_count": null,
      "outputs": [
        {
          "output_type": "stream",
          "name": "stdout",
          "text": [
            "{101: {'name': 'Mahesh', 'age': 20, 'grade': 'A'}, 102: {'name': 'Rakesh', 'age': 21, 'grade': 'B'}, 103: {'name': 'Preethi', 'age': 22, 'grade': 'A'}}\n"
          ]
        }
      ]
    },
    {
      "cell_type": "code",
      "source": [
        "# Accessing the 'grade' of the student with ID 101\n",
        "student_grade = nested_student_dict[101][\"grade\"]\n",
        "print(f\"Student with ID 101 has grade: {student_grade}\")\n"
      ],
      "metadata": {
        "colab": {
          "base_uri": "https://localhost:8080/"
        },
        "id": "Icj0wEa2RP2Y",
        "outputId": "40e38609-3dc3-43e4-c4f3-ab9d391e0d05"
      },
      "execution_count": null,
      "outputs": [
        {
          "output_type": "stream",
          "name": "stdout",
          "text": [
            "Student with ID 101 has grade: A\n"
          ]
        }
      ]
    },
    {
      "cell_type": "code",
      "source": [
        "# Printing the keys present in the dictionary\n",
        "keys = student_dict.keys()\n",
        "print(f\"Keys in the student_dict: {list(keys)}\")\n"
      ],
      "metadata": {
        "colab": {
          "base_uri": "https://localhost:8080/"
        },
        "id": "pcI0EGpbRQ1Y",
        "outputId": "1ad2e1cb-f74a-404b-8edc-9aa1d3e07b46"
      },
      "execution_count": null,
      "outputs": [
        {
          "output_type": "stream",
          "name": "stdout",
          "text": [
            "Keys in the student_dict: [101, 102, 103, 104, 105, 106]\n"
          ]
        }
      ]
    },
    {
      "cell_type": "code",
      "source": [
        "# Deleting the student with ID 104\n",
        "del student_dict[104]\n",
        "print(student_dict)\n"
      ],
      "metadata": {
        "colab": {
          "base_uri": "https://localhost:8080/"
        },
        "id": "aWHLIN2yRTsP",
        "outputId": "967ddf24-2ae2-4152-ad10-d65647eacff0"
      },
      "execution_count": null,
      "outputs": [
        {
          "output_type": "stream",
          "name": "stdout",
          "text": [
            "{101: 'Mahesh', 102: 'Bob Updated', 103: 'Preethi', 105: 'Vivek', 106: 'Frank'}\n"
          ]
        }
      ]
    }
  ]
}